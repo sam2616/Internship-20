{
 "cells": [
  {
   "cell_type": "code",
   "execution_count": null,
   "id": "b36b8517",
   "metadata": {},
   "outputs": [],
   "source": [
    "str=input(\"Enter the string\")\n",
    "freq={}\n",
    "for i in str:\n",
    "    if i in freq:\n",
    "        freq[i]+=1\n",
    "    else:\n",
    "        freq[i]=1\n",
    "print(\"Frequency of Characters in\",str,'is',freq)"
   ]
  },
  {
   "cell_type": "code",
   "execution_count": null,
   "id": "542049ba",
   "metadata": {},
   "outputs": [],
   "source": [
    "from collections import Counter\n",
    "str=input(\"Enter the string: \")\n",
    "Freq=Counter(str)\n",
    "print(Freq)"
   ]
  },
  {
   "cell_type": "code",
   "execution_count": null,
   "id": "e360e383",
   "metadata": {},
   "outputs": [],
   "source": []
  }
 ],
 "metadata": {
  "kernelspec": {
   "display_name": "Python 3",
   "language": "python",
   "name": "python3"
  },
  "language_info": {
   "codemirror_mode": {
    "name": "ipython",
    "version": 3
   },
   "file_extension": ".py",
   "mimetype": "text/x-python",
   "name": "python",
   "nbconvert_exporter": "python",
   "pygments_lexer": "ipython3",
   "version": "3.8.8"
  }
 },
 "nbformat": 4,
 "nbformat_minor": 5
}
