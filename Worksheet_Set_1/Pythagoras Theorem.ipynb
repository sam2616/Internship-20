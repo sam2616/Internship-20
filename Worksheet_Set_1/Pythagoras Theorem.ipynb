{
 "cells": [
  {
   "cell_type": "code",
   "execution_count": 1,
   "id": "58aabe5a",
   "metadata": {},
   "outputs": [],
   "source": [
    "def pythagoras(AB,BC,AC): #AC is the hypotenuse\n",
    "    if AB==str('x'):\n",
    "        AB=(((AC**2)-(BC**2))**0.5)\n",
    "        print (\"AB = \",AB)\n",
    "    elif BC == str(\"x\"):\n",
    "        BC=(((AC**2) - (AB**2))**0.5)\n",
    "        print (\"BC = \",BC)\n",
    "    elif AC == str(\"x\"):\n",
    "        AC=(((AB**2) + (BC**2))**0.5)\n",
    "        print (\"AC = \" ,AC)"
   ]
  },
  {
   "cell_type": "code",
   "execution_count": 2,
   "id": "d20e5e4c",
   "metadata": {},
   "outputs": [
    {
     "name": "stdout",
     "output_type": "stream",
     "text": [
      "AC =  5.0\n"
     ]
    }
   ],
   "source": [
    "pythagoras(3,4,'x')"
   ]
  },
  {
   "cell_type": "code",
   "execution_count": 3,
   "id": "d4346e11",
   "metadata": {},
   "outputs": [
    {
     "name": "stdout",
     "output_type": "stream",
     "text": [
      "BC =  4.0\n"
     ]
    }
   ],
   "source": [
    "pythagoras(3,'x',5)"
   ]
  },
  {
   "cell_type": "code",
   "execution_count": 4,
   "id": "9d49667f",
   "metadata": {},
   "outputs": [
    {
     "name": "stdout",
     "output_type": "stream",
     "text": [
      "AB =  3.0\n"
     ]
    }
   ],
   "source": [
    "pythagoras('x',4,5)"
   ]
  },
  {
   "cell_type": "code",
   "execution_count": null,
   "id": "f91cc4cb",
   "metadata": {},
   "outputs": [],
   "source": []
  }
 ],
 "metadata": {
  "kernelspec": {
   "display_name": "Python 3",
   "language": "python",
   "name": "python3"
  },
  "language_info": {
   "codemirror_mode": {
    "name": "ipython",
    "version": 3
   },
   "file_extension": ".py",
   "mimetype": "text/x-python",
   "name": "python",
   "nbconvert_exporter": "python",
   "pygments_lexer": "ipython3",
   "version": "3.8.8"
  }
 },
 "nbformat": 4,
 "nbformat_minor": 5
}
