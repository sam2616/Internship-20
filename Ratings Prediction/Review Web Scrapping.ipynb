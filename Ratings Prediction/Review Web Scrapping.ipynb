{
 "cells": [
  {
   "cell_type": "code",
   "execution_count": 67,
   "metadata": {},
   "outputs": [],
   "source": [
    "#importing all the required libraries\n",
    "import selenium\n",
    "from selenium import webdriver   # webdriver\n",
    "from selenium.webdriver.common.by import By\n",
    "from selenium.webdriver.support.ui import WebDriverWait\n",
    "from selenium.webdriver.support import expected_conditions as EC\n",
    "from selenium.common.exceptions import StaleElementReferenceException, NoSuchElementException,ElementNotInteractableException,InvalidArgumentException,InvalidCookieDomainException\n",
    "\n",
    "import time\n",
    "import requests\n",
    "\n",
    "import os\n",
    "import pandas as pd\n",
    "\n",
    "from tqdm import tqdm as progressbar #for progress bar"
   ]
  },
  {
   "cell_type": "code",
   "execution_count": 68,
   "metadata": {},
   "outputs": [],
   "source": [
    "# connecting to webdriver\n",
    "driver = webdriver.Chrome(\"chromedriver.exe\")\n",
    "time.sleep(2)"
   ]
  },
  {
   "cell_type": "markdown",
   "metadata": {},
   "source": [
    "### Scraping Laptop data"
   ]
  },
  {
   "cell_type": "code",
   "execution_count": 69,
   "metadata": {},
   "outputs": [],
   "source": [
    "# Scraping Rating and Reviews of laptops from URL\n",
    "url='https://www.flipkart.com/asus-celeron-dual-core-4-gb-1-tb-hdd-windows-10-home-x543ma-gq1015t-laptop/product-reviews/itmf8811674edbeb?pid=COMFSKF9UQH8RKYF&lid=LSTCOMFSKF9UQH8RKYFK8UKIL&marketplace=FLIPKART'"
   ]
  },
  {
   "cell_type": "code",
   "execution_count": 70,
   "metadata": {},
   "outputs": [],
   "source": [
    "# send get request to the webpage server to get the source code of the page\n",
    "driver.get(url)\n",
    "time.sleep(4)"
   ]
  },
  {
   "cell_type": "code",
   "execution_count": 71,
   "metadata": {},
   "outputs": [],
   "source": [
    "# Maximize current window\n",
    "driver.maximize_window()"
   ]
  },
  {
   "cell_type": "code",
   "execution_count": 72,
   "metadata": {},
   "outputs": [],
   "source": [
    "# creating empty lists\n",
    "ratings1=[]\n",
    "full_review1=[]"
   ]
  },
  {
   "cell_type": "code",
   "execution_count": 73,
   "metadata": {},
   "outputs": [
    {
     "name": "stderr",
     "output_type": "stream",
     "text": [
      "100%|██████████| 161/161 [06:00<00:00,  2.24s/it]\n"
     ]
    }
   ],
   "source": [
    "for i in progressbar(range(0,161)): \n",
    "    for j in driver.find_elements_by_xpath(\"//div[@class='_3LWZlK _1BLPMq' or @class='_3LWZlK _32lA32 _1BLPMq' or @class='_3LWZlK _1rdVr6 _1BLPMq']\"):\n",
    "        ratings1.append(j.text)\n",
    "        \n",
    "    for k in driver.find_elements_by_xpath(\"//div[@class='t-ZTKy']/div/div\"):\n",
    "        full_review1.append(k.text.replace('\\n',' '))\n",
    "    \n",
    "    button=driver.find_element_by_xpath(\"//*[contains(text(), 'Next')]\")\n",
    "    driver.execute_script(\"arguments[0].click();\", button)\n",
    "    \n",
    "    time.sleep(2)"
   ]
  },
  {
   "cell_type": "code",
   "execution_count": 74,
   "metadata": {},
   "outputs": [],
   "source": [
    "# Scraping Rating and Reviews of laptops from different URL\n",
    "url='https://www.flipkart.com/asus-vivobook-ultra-14-core-i3-10th-gen-4-gb-512-gb-ssd-windows-10-home-x413ja-ek268t-x413ja-eb303t-thin-light-laptop/product-reviews/itm1c8e9d0ab97a4?pid=COMFTWZDNEXY33HG&lid=LSTCOMFTWZDNEXY33HGCWAGB2&marketplace=FLIPKART'"
   ]
  },
  {
   "cell_type": "code",
   "execution_count": 75,
   "metadata": {},
   "outputs": [],
   "source": [
    "# send get request to the webpage server to get the source code of the page\n",
    "driver.get(url)\n",
    "time.sleep(4)"
   ]
  },
  {
   "cell_type": "code",
   "execution_count": 76,
   "metadata": {},
   "outputs": [
    {
     "name": "stderr",
     "output_type": "stream",
     "text": [
      "100%|██████████| 45/45 [01:41<00:00,  2.25s/it]\n"
     ]
    }
   ],
   "source": [
    "for i in progressbar(range(0,45)): \n",
    "    for j in driver.find_elements_by_xpath(\"//div[@class='_3LWZlK _1BLPMq' or @class='_3LWZlK _32lA32 _1BLPMq' or @class='_3LWZlK _1rdVr6 _1BLPMq']\"):\n",
    "        ratings1.append(j.text)\n",
    "        \n",
    "    for k in driver.find_elements_by_xpath(\"//div[@class='t-ZTKy']/div/div\"):\n",
    "        full_review1.append(k.text.replace('\\n',' '))\n",
    "    \n",
    "    button=driver.find_element_by_xpath(\"//*[contains(text(), 'Next')]\")\n",
    "    driver.execute_script(\"arguments[0].click();\", button)\n",
    "    \n",
    "    time.sleep(2)"
   ]
  },
  {
   "cell_type": "code",
   "execution_count": 77,
   "metadata": {},
   "outputs": [],
   "source": [
    "# Scraping Rating and Reviews of laptops from different URL\n",
    "url='https://www.flipkart.com/acer-aspire-7-core-i5-10th-gen-8-gb-512-gb-ssd-windows-10-home-4-graphics-nvidia-geforce-gtx-1650-a715-75g-50ta-a715-75g-41g-gaming-laptop/product-reviews/itmc97c3da5d2abe?pid=COMG2KBG2K4GFFF7&lid=LSTCOMG2KBG2K4GFFF78YBPHO&marketplace=FLIPKART'"
   ]
  },
  {
   "cell_type": "code",
   "execution_count": 78,
   "metadata": {},
   "outputs": [],
   "source": [
    "# send get request to the webpage server to get the source code of the page\n",
    "driver.get(url)\n",
    "time.sleep(4)"
   ]
  },
  {
   "cell_type": "code",
   "execution_count": 79,
   "metadata": {},
   "outputs": [
    {
     "name": "stderr",
     "output_type": "stream",
     "text": [
      "100%|██████████| 58/58 [02:05<00:00,  2.17s/it]\n"
     ]
    }
   ],
   "source": [
    "for i in progressbar(range(0,58)): \n",
    "    for j in driver.find_elements_by_xpath(\"//div[@class='_3LWZlK _1BLPMq' or @class='_3LWZlK _32lA32 _1BLPMq' or @class='_3LWZlK _1rdVr6 _1BLPMq']\"):\n",
    "        ratings1.append(j.text)\n",
    "        \n",
    "    for k in driver.find_elements_by_xpath(\"//div[@class='t-ZTKy']/div/div\"):\n",
    "        full_review1.append(k.text.replace('\\n',' '))\n",
    "    \n",
    "    button=driver.find_element_by_xpath(\"//*[contains(text(), 'Next')]\")\n",
    "    driver.execute_script(\"arguments[0].click();\", button)\n",
    "    \n",
    "    time.sleep(2)"
   ]
  },
  {
   "cell_type": "code",
   "execution_count": 80,
   "metadata": {},
   "outputs": [],
   "source": [
    "# Scraping Rating and Reviews of laptops from different URL\n",
    "url='https://www.flipkart.com/hp-chromebook-mediatek-kompanio-500-4-gb-64-gb-emmc-storage-chrome-os-11a-na0002mu/product-reviews/itm92093a75fc716?pid=COMGYJYYA7FFRXZC&lid=LSTCOMGYJYYA7FFRXZCPGLPBY&marketplace=FLIPKART'"
   ]
  },
  {
   "cell_type": "code",
   "execution_count": 81,
   "metadata": {},
   "outputs": [],
   "source": [
    "# send get request to the webpage server to get the source code of the page\n",
    "driver.get(url)\n",
    "time.sleep(4)"
   ]
  },
  {
   "cell_type": "code",
   "execution_count": 82,
   "metadata": {},
   "outputs": [
    {
     "name": "stderr",
     "output_type": "stream",
     "text": [
      "100%|██████████| 41/41 [01:31<00:00,  2.22s/it]\n"
     ]
    }
   ],
   "source": [
    "for i in progressbar(range(0,41)): \n",
    "    for j in driver.find_elements_by_xpath(\"//div[@class='_3LWZlK _1BLPMq' or @class='_3LWZlK _32lA32 _1BLPMq' or @class='_3LWZlK _1rdVr6 _1BLPMq']\"):\n",
    "        ratings1.append(j.text)\n",
    "        \n",
    "    for k in driver.find_elements_by_xpath(\"//div[@class='t-ZTKy']/div/div\"):\n",
    "        full_review1.append(k.text.replace('\\n',' '))\n",
    "    \n",
    "    button=driver.find_element_by_xpath(\"//*[contains(text(), 'Next')]\")\n",
    "    driver.execute_script(\"arguments[0].click();\", button)\n",
    "    \n",
    "    time.sleep(2)"
   ]
  },
  {
   "cell_type": "code",
   "execution_count": 83,
   "metadata": {},
   "outputs": [
    {
     "data": {
      "text/plain": [
       "(2545, 2545)"
      ]
     },
     "execution_count": 83,
     "metadata": {},
     "output_type": "execute_result"
    }
   ],
   "source": [
    "len(ratings1),len(full_review1)"
   ]
  },
  {
   "cell_type": "markdown",
   "metadata": {},
   "source": [
    "### Scraping Mobile phones data"
   ]
  },
  {
   "cell_type": "code",
   "execution_count": 84,
   "metadata": {},
   "outputs": [],
   "source": [
    "# Scraping Rating and Reviews of Mobile phones from URL\n",
    "url='https://www.flipkart.com/motorola-e40-carbon-gray-64-gb/product-reviews/itm0ca635007c9e2?pid=MOBG2EMWUMUFGSZE&lid=LSTMOBG2EMWUMUFGSZE5BRN80&marketplace=FLIPKART'"
   ]
  },
  {
   "cell_type": "code",
   "execution_count": 85,
   "metadata": {},
   "outputs": [],
   "source": [
    "# send get request to the webpage server to get the source code of the page\n",
    "driver.get(url)\n",
    "time.sleep(4)"
   ]
  },
  {
   "cell_type": "code",
   "execution_count": 86,
   "metadata": {},
   "outputs": [],
   "source": [
    "# creating empty lists\n",
    "ratings2=[]\n",
    "full_review2=[]"
   ]
  },
  {
   "cell_type": "code",
   "execution_count": 87,
   "metadata": {},
   "outputs": [
    {
     "name": "stderr",
     "output_type": "stream",
     "text": [
      "100%|██████████| 35/35 [01:13<00:00,  2.10s/it]\n"
     ]
    }
   ],
   "source": [
    "for i in progressbar(range(0,35)): \n",
    "    for j in driver.find_elements_by_xpath(\"//div[@class='_3LWZlK _1BLPMq' or @class='_3LWZlK _32lA32 _1BLPMq' or @class='_3LWZlK _1rdVr6 _1BLPMq']\"):\n",
    "        ratings2.append(j.text)\n",
    "        \n",
    "    for k in driver.find_elements_by_xpath(\"//div[@class='t-ZTKy']/div/div\"):\n",
    "        full_review2.append(k.text.replace('\\n',' '))\n",
    "    \n",
    "    button=driver.find_element_by_xpath(\"//*[contains(text(), 'Next')]\")\n",
    "    driver.execute_script(\"arguments[0].click();\", button)\n",
    "    \n",
    "    time.sleep(2)"
   ]
  },
  {
   "cell_type": "code",
   "execution_count": 89,
   "metadata": {},
   "outputs": [],
   "source": [
    "# send get request to the webpage server to get the source code of the page\n",
    "driver.get(url)\n",
    "time.sleep(4)"
   ]
  },
  {
   "cell_type": "code",
   "execution_count": 90,
   "metadata": {},
   "outputs": [
    {
     "name": "stderr",
     "output_type": "stream",
     "text": [
      "100%|██████████| 30/30 [01:07<00:00,  2.25s/it]\n"
     ]
    }
   ],
   "source": [
    "for i in progressbar(range(0,30)): \n",
    "    for j in driver.find_elements_by_xpath(\"//div[@class='_3LWZlK _1BLPMq' or @class='_3LWZlK _32lA32 _1BLPMq' or @class='_3LWZlK _1rdVr6 _1BLPMq']\"):\n",
    "        ratings2.append(j.text)\n",
    "        \n",
    "    for k in driver.find_elements_by_xpath(\"//div[@class='t-ZTKy']/div/div\"):\n",
    "        full_review2.append(k.text.replace('\\n',' '))\n",
    "    \n",
    "    button=driver.find_element_by_xpath(\"//*[contains(text(), 'Next')]\")\n",
    "    driver.execute_script(\"arguments[0].click();\", button)\n",
    "    \n",
    "    time.sleep(2)"
   ]
  },
  {
   "cell_type": "code",
   "execution_count": 91,
   "metadata": {},
   "outputs": [],
   "source": [
    "# Scraping Rating and Reviews of Mobile phones from different URL\n",
    "url='https://www.flipkart.com/apple-iphone-12-blue-128-gb/product-reviews/itm02853ae92e90a?pid=MOBFWBYZKPTZF9VG&lid=LSTMOBFWBYZKPTZF9VGIFSM7T&marketplace=FLIPKART'"
   ]
  },
  {
   "cell_type": "code",
   "execution_count": 92,
   "metadata": {},
   "outputs": [],
   "source": [
    "# send get request to the webpage server to get the source code of the page\n",
    "driver.get(url)\n",
    "time.sleep(4)"
   ]
  },
  {
   "cell_type": "code",
   "execution_count": 93,
   "metadata": {},
   "outputs": [
    {
     "name": "stderr",
     "output_type": "stream",
     "text": [
      "100%|██████████| 80/80 [03:01<00:00,  2.26s/it]\n"
     ]
    }
   ],
   "source": [
    "for i in progressbar(range(0,80)): \n",
    "    for j in driver.find_elements_by_xpath(\"//div[@class='_3LWZlK _1BLPMq' or @class='_3LWZlK _32lA32 _1BLPMq' or @class='_3LWZlK _1rdVr6 _1BLPMq']\"):\n",
    "        ratings2.append(j.text)\n",
    "        \n",
    "    for k in driver.find_elements_by_xpath(\"//div[@class='t-ZTKy']/div/div\"):\n",
    "        full_review2.append(k.text.replace('\\n',' '))\n",
    "    \n",
    "    button=driver.find_element_by_xpath(\"//*[contains(text(), 'Next')]\")\n",
    "    driver.execute_script(\"arguments[0].click();\", button)\n",
    "    \n",
    "    time.sleep(2)"
   ]
  },
  {
   "cell_type": "code",
   "execution_count": 94,
   "metadata": {},
   "outputs": [],
   "source": [
    "# Scraping Rating and Reviews of Mobile phones from different URL\n",
    "url='https://www.flipkart.com/vivo-y12s-glacier-blue-32-gb/product-reviews/itmf919e62319b1e?pid=MOBFYPJHZ7USNBZV&lid=LSTMOBFYPJHZ7USNBZVSAS2UP&marketplace=FLIPKART'"
   ]
  },
  {
   "cell_type": "code",
   "execution_count": 95,
   "metadata": {},
   "outputs": [],
   "source": [
    "# opening the webpage through our driver\n",
    "driver.get(url)\n",
    "time.sleep(4)"
   ]
  },
  {
   "cell_type": "code",
   "execution_count": 96,
   "metadata": {},
   "outputs": [
    {
     "name": "stderr",
     "output_type": "stream",
     "text": [
      "100%|██████████| 99/99 [03:35<00:00,  2.18s/it]\n"
     ]
    }
   ],
   "source": [
    "for i in progressbar(range(0,99)): \n",
    "    for j in driver.find_elements_by_xpath(\"//div[@class='_3LWZlK _1BLPMq' or @class='_3LWZlK _32lA32 _1BLPMq' or @class='_3LWZlK _1rdVr6 _1BLPMq']\"):\n",
    "        ratings2.append(j.text)\n",
    "        \n",
    "    for k in driver.find_elements_by_xpath(\"//div[@class='t-ZTKy']/div/div\"):\n",
    "        full_review2.append(k.text.replace('\\n',' '))\n",
    "    \n",
    "    button=driver.find_element_by_xpath(\"//*[contains(text(), 'Next')]\")\n",
    "    driver.execute_script(\"arguments[0].click();\", button)\n",
    "    \n",
    "    time.sleep(2)"
   ]
  },
  {
   "cell_type": "code",
   "execution_count": 97,
   "metadata": {},
   "outputs": [],
   "source": [
    "# Scraping Rating and Reviews of Mobile phones from different URL\n",
    "url='https://www.flipkart.com/samsung-galaxy-f12-sea-green-64-gb/product-reviews/itm4d3582cd695fd?pid=MOBGFG794YPQ9RAE&lid=LSTMOBGFG794YPQ9RAEGUPPTW&marketplace=FLIPKART'"
   ]
  },
  {
   "cell_type": "code",
   "execution_count": 98,
   "metadata": {},
   "outputs": [],
   "source": [
    "# send get request to the webpage server to get the source code of the page\n",
    "driver.get(url)\n",
    "time.sleep(4)"
   ]
  },
  {
   "cell_type": "code",
   "execution_count": 99,
   "metadata": {},
   "outputs": [
    {
     "name": "stderr",
     "output_type": "stream",
     "text": [
      "100%|██████████| 200/200 [07:07<00:00,  2.14s/it]\n"
     ]
    }
   ],
   "source": [
    "for i in progressbar(range(0,200)): \n",
    "    for j in driver.find_elements_by_xpath(\"//div[@class='_3LWZlK _1BLPMq' or @class='_3LWZlK _32lA32 _1BLPMq' or @class='_3LWZlK _1rdVr6 _1BLPMq']\"):\n",
    "        ratings2.append(j.text)\n",
    "        \n",
    "    for k in driver.find_elements_by_xpath(\"//div[@class='t-ZTKy']/div/div\"):\n",
    "        full_review2.append(k.text.replace('\\n',' '))\n",
    "    \n",
    "    button=driver.find_element_by_xpath(\"//*[contains(text(), 'Next')]\")\n",
    "    driver.execute_script(\"arguments[0].click();\", button)\n",
    "    \n",
    "    time.sleep(2)"
   ]
  },
  {
   "cell_type": "code",
   "execution_count": 100,
   "metadata": {},
   "outputs": [
    {
     "data": {
      "text/plain": [
       "(2914, 2914)"
      ]
     },
     "execution_count": 100,
     "metadata": {},
     "output_type": "execute_result"
    }
   ],
   "source": [
    "len(ratings2),len(full_review2)"
   ]
  },
  {
   "cell_type": "markdown",
   "metadata": {},
   "source": [
    "### Scraping Headphones data"
   ]
  },
  {
   "cell_type": "code",
   "execution_count": 101,
   "metadata": {},
   "outputs": [],
   "source": [
    "# Scraping Rating and Reviews of Headphones from different URL\n",
    "url='https://www.flipkart.com/mivi-collar-classic-neckband-fast-charging-bluetooth-headset/product-reviews/itm0201c1801ebe9?pid=ACCGFGJUH6WWTJG3&lid=LSTACCGFGJUH6WWTJG3MLICEL&marketplace=FLIPKART'"
   ]
  },
  {
   "cell_type": "code",
   "execution_count": 102,
   "metadata": {},
   "outputs": [],
   "source": [
    "# send get request to the webpage server to get the source code of the page\n",
    "driver.get(url)\n",
    "time.sleep(4)"
   ]
  },
  {
   "cell_type": "code",
   "execution_count": 103,
   "metadata": {},
   "outputs": [],
   "source": [
    "# creating empty lists\n",
    "ratings3=[]\n",
    "full_review3=[]"
   ]
  },
  {
   "cell_type": "code",
   "execution_count": 104,
   "metadata": {},
   "outputs": [
    {
     "name": "stderr",
     "output_type": "stream",
     "text": [
      "100%|██████████| 100/100 [03:36<00:00,  2.16s/it]\n"
     ]
    }
   ],
   "source": [
    "for i in progressbar(range(0,100)): \n",
    "    for j in driver.find_elements_by_xpath(\"//div[@class='_3LWZlK _1BLPMq' or @class='_3LWZlK _32lA32 _1BLPMq' or @class='_3LWZlK _1rdVr6 _1BLPMq']\"):\n",
    "        ratings3.append(j.text)\n",
    "        \n",
    "    for k in driver.find_elements_by_xpath(\"//div[@class='t-ZTKy']/div/div\"):\n",
    "        full_review3.append(k.text.replace('\\n',' '))\n",
    "    \n",
    "    button=driver.find_element_by_xpath(\"//*[contains(text(), 'Next')]\")\n",
    "    driver.execute_script(\"arguments[0].click();\", button)\n",
    "    \n",
    "    time.sleep(2)"
   ]
  },
  {
   "cell_type": "code",
   "execution_count": 105,
   "metadata": {},
   "outputs": [
    {
     "data": {
      "text/plain": [
       "521"
      ]
     },
     "execution_count": 105,
     "metadata": {},
     "output_type": "execute_result"
    }
   ],
   "source": [
    "len(ratings3)"
   ]
  },
  {
   "cell_type": "code",
   "execution_count": 106,
   "metadata": {},
   "outputs": [],
   "source": [
    "# Scraping Rating and Reviews of Headphones from different URL\n",
    "url='https://www.flipkart.com/boat-rockerz-255f-pro-bluetooth-headset/product-reviews/itm941568a62c9f1?pid=ACCFZ95M5JTZQH3F&lid=LSTACCFZ95M5JTZQH3FVDTCRS&marketplace=FLIPKART'"
   ]
  },
  {
   "cell_type": "code",
   "execution_count": 107,
   "metadata": {},
   "outputs": [],
   "source": [
    "# send get request to the webpage server to get the source code of the page\n",
    "driver.get(url)\n",
    "time.sleep(4)"
   ]
  },
  {
   "cell_type": "code",
   "execution_count": 108,
   "metadata": {},
   "outputs": [
    {
     "name": "stderr",
     "output_type": "stream",
     "text": [
      "100%|██████████| 150/150 [05:22<00:00,  2.15s/it]\n"
     ]
    }
   ],
   "source": [
    "for i in progressbar(range(0,150)): \n",
    "    for j in driver.find_elements_by_xpath(\"//div[@class='_3LWZlK _1BLPMq' or @class='_3LWZlK _32lA32 _1BLPMq' or @class='_3LWZlK _1rdVr6 _1BLPMq']\"):\n",
    "        ratings3.append(j.text)\n",
    "        \n",
    "    for k in driver.find_elements_by_xpath(\"//div[@class='t-ZTKy']/div/div\"):\n",
    "        full_review3.append(k.text.replace('\\n',' '))\n",
    "    \n",
    "    button=driver.find_element_by_xpath(\"//*[contains(text(), 'Next')]\")\n",
    "    driver.execute_script(\"arguments[0].click();\", button)\n",
    "    \n",
    "    time.sleep(2)"
   ]
  },
  {
   "cell_type": "code",
   "execution_count": 109,
   "metadata": {},
   "outputs": [],
   "source": [
    "# Scraping Rating and Reviews of Headphones from different URL\n",
    "url='https://www.flipkart.com/oneplus-bullets-wireless-z-bass-bluetooth-headset/product-reviews/itmc804703e0785e?pid=ACCFVA3KZ2EYMYX3&lid=LSTACCFVA3KZ2EYMYX3C5TCKH&marketplace=FLIPKART'"
   ]
  },
  {
   "cell_type": "code",
   "execution_count": 110,
   "metadata": {},
   "outputs": [],
   "source": [
    "# send get request to the webpage server to get the source code of the page\n",
    "driver.get(url)\n",
    "time.sleep(4)"
   ]
  },
  {
   "cell_type": "code",
   "execution_count": 111,
   "metadata": {},
   "outputs": [
    {
     "name": "stderr",
     "output_type": "stream",
     "text": [
      "100%|██████████| 200/200 [07:13<00:00,  2.17s/it]\n"
     ]
    }
   ],
   "source": [
    "for i in progressbar(range(0,100)): \n",
    "    for j in driver.find_elements_by_xpath(\"//div[@class='_3LWZlK _1BLPMq' or @class='_3LWZlK _32lA32 _1BLPMq' or @class='_3LWZlK _1rdVr6 _1BLPMq']\"):\n",
    "        ratings3.append(j.text)\n",
    "        \n",
    "    for k in driver.find_elements_by_xpath(\"//div[@class='t-ZTKy']/div/div\"):\n",
    "        full_review3.append(k.text.replace('\\n',' '))\n",
    "    \n",
    "    button=driver.find_element_by_xpath(\"//*[contains(text(), 'Next')]\")\n",
    "    driver.execute_script(\"arguments[0].click();\", button)\n",
    "    \n",
    "    time.sleep(2)"
   ]
  },
  {
   "cell_type": "code",
   "execution_count": 113,
   "metadata": {},
   "outputs": [
    {
     "data": {
      "text/plain": [
       "(3063, 3063)"
      ]
     },
     "execution_count": 113,
     "metadata": {},
     "output_type": "execute_result"
    }
   ],
   "source": [
    "len(ratings3),len(full_review3)"
   ]
  },
  {
   "cell_type": "markdown",
   "metadata": {},
   "source": [
    "### Scraping Smart Watches data"
   ]
  },
  {
   "cell_type": "code",
   "execution_count": 114,
   "metadata": {},
   "outputs": [],
   "source": [
    "# Scraping Rating and Reviews of Smart Watches from different URL\n",
    "url='https://www.flipkart.com/dizo-watch-2-by-realme-techlife/product-reviews/itm59913ba399d56?pid=SMWG6EFSBH67Z3EJ&lid=LSTSMWG6EFSBH67Z3EJKYCN9Y&marketplace=FLIPKART'"
   ]
  },
  {
   "cell_type": "code",
   "execution_count": 115,
   "metadata": {},
   "outputs": [],
   "source": [
    "# send get request to the webpage server to get the source code of the page\n",
    "driver.get(url)\n",
    "time.sleep(4)"
   ]
  },
  {
   "cell_type": "code",
   "execution_count": 116,
   "metadata": {},
   "outputs": [],
   "source": [
    "# creating empty lists\n",
    "ratings4=[]\n",
    "full_review4=[]"
   ]
  },
  {
   "cell_type": "code",
   "execution_count": 117,
   "metadata": {},
   "outputs": [
    {
     "name": "stderr",
     "output_type": "stream",
     "text": [
      "100%|██████████| 150/150 [05:15<00:00,  2.11s/it]\n"
     ]
    }
   ],
   "source": [
    "for i in progressbar(range(0,150)): \n",
    "    for j in driver.find_elements_by_xpath(\"//div[@class='_3LWZlK _1BLPMq' or @class='_3LWZlK _32lA32 _1BLPMq' or @class='_3LWZlK _1rdVr6 _1BLPMq']\"):\n",
    "        ratings4.append(j.text)\n",
    "        \n",
    "    for k in driver.find_elements_by_xpath(\"//div[@class='t-ZTKy']/div/div\"):\n",
    "        full_review4.append(k.text.replace('\\n',' '))\n",
    "    \n",
    "    button=driver.find_element_by_xpath(\"//*[contains(text(), 'Next')]\")\n",
    "    driver.execute_script(\"arguments[0].click();\", button)\n",
    "    \n",
    "    time.sleep(2)"
   ]
  },
  {
   "cell_type": "code",
   "execution_count": 118,
   "metadata": {},
   "outputs": [],
   "source": [
    "# Scraping Rating and Reviews of Smart Watches from different URL\n",
    "url='https://www.flipkart.com/boat-storm-smartwatch/product-reviews/itm215a48c547168?pid=SMWG3EC4KCEFNNKH&lid=LSTSMWG3EC4KCEFNNKHJXJOIN&marketplace=FLIPKART'"
   ]
  },
  {
   "cell_type": "code",
   "execution_count": 119,
   "metadata": {},
   "outputs": [],
   "source": [
    "# send get request to the webpage server to get the source code of the page\n",
    "driver.get(url)\n",
    "time.sleep(4)"
   ]
  },
  {
   "cell_type": "code",
   "execution_count": 120,
   "metadata": {},
   "outputs": [
    {
     "name": "stderr",
     "output_type": "stream",
     "text": [
      "100%|██████████| 200/200 [07:19<00:00,  2.20s/it]\n"
     ]
    }
   ],
   "source": [
    "for i in progressbar(range(0,200)): \n",
    "    for j in driver.find_elements_by_xpath(\"//div[@class='_3LWZlK _1BLPMq' or @class='_3LWZlK _32lA32 _1BLPMq' or @class='_3LWZlK _1rdVr6 _1BLPMq']\"):\n",
    "        ratings4.append(j.text)\n",
    "        \n",
    "    for k in driver.find_elements_by_xpath(\"//div[@class='t-ZTKy']/div/div\"):\n",
    "        full_review4.append(k.text.replace('\\n',' '))\n",
    "    \n",
    "    button=driver.find_element_by_xpath(\"//*[contains(text(), 'Next')]\")\n",
    "    driver.execute_script(\"arguments[0].click();\", button)\n",
    "    \n",
    "    time.sleep(2)"
   ]
  },
  {
   "cell_type": "code",
   "execution_count": 121,
   "metadata": {},
   "outputs": [],
   "source": [
    "# Scraping Rating and Reviews of Smart Watches from different URL\n",
    "url='https://www.flipkart.com/realme-watch-2/product-reviews/itm44d90218d1891?pid=SMWG4WFWZABX4VQF&lid=LSTSMWG4WFWZABX4VQFXF6IVW&marketplace=FLIPKART'"
   ]
  },
  {
   "cell_type": "code",
   "execution_count": 122,
   "metadata": {},
   "outputs": [],
   "source": [
    "# send get request to the webpage server to get the source code of the page\n",
    "driver.get(url)\n",
    "time.sleep(4)"
   ]
  },
  {
   "cell_type": "code",
   "execution_count": 123,
   "metadata": {},
   "outputs": [
    {
     "name": "stderr",
     "output_type": "stream",
     "text": [
      "100%|██████████| 110/110 [03:59<00:00,  2.17s/it]\n"
     ]
    }
   ],
   "source": [
    "for i in progressbar(range(0,110)): \n",
    "    for j in driver.find_elements_by_xpath(\"//div[@class='_3LWZlK _1BLPMq' or @class='_3LWZlK _32lA32 _1BLPMq' or @class='_3LWZlK _1rdVr6 _1BLPMq']\"):\n",
    "        ratings4.append(j.text)\n",
    "        \n",
    "    for k in driver.find_elements_by_xpath(\"//div[@class='t-ZTKy']/div/div\"):\n",
    "        full_review4.append(k.text.replace('\\n',' '))\n",
    "    \n",
    "    button=driver.find_element_by_xpath(\"//*[contains(text(), 'Next')]\")\n",
    "    driver.execute_script(\"arguments[0].click();\", button)\n",
    "    \n",
    "    time.sleep(2)"
   ]
  },
  {
   "cell_type": "code",
   "execution_count": 124,
   "metadata": {},
   "outputs": [
    {
     "data": {
      "text/plain": [
       "(2298, 2298)"
      ]
     },
     "execution_count": 124,
     "metadata": {},
     "output_type": "execute_result"
    }
   ],
   "source": [
    "len(ratings4),len(full_review4)"
   ]
  },
  {
   "cell_type": "markdown",
   "metadata": {},
   "source": [
    "### Scraping Professional Cameras data"
   ]
  },
  {
   "cell_type": "code",
   "execution_count": 125,
   "metadata": {},
   "outputs": [],
   "source": [
    "# Scraping Rating and Reviews of Professional Cameras from different URL\n",
    "url='https://www.flipkart.com/canon-eos-3000d-dslr-camera-1-body-18-55-mm-lens/product-reviews/itm6f665fea97bc2?pid=CAMF3DHJURPEMNRN&lid=LSTCAMF3DHJURPEMNRNYD4BKP&marketplace=FLIPKART'"
   ]
  },
  {
   "cell_type": "code",
   "execution_count": 126,
   "metadata": {},
   "outputs": [],
   "source": [
    "# send get request to the webpage server to get the source code of the page\n",
    "driver.get(url)\n",
    "time.sleep(4)"
   ]
  },
  {
   "cell_type": "code",
   "execution_count": 127,
   "metadata": {},
   "outputs": [],
   "source": [
    "# creating empty lists\n",
    "ratings5=[]\n",
    "full_review5=[]"
   ]
  },
  {
   "cell_type": "code",
   "execution_count": 128,
   "metadata": {},
   "outputs": [
    {
     "name": "stderr",
     "output_type": "stream",
     "text": [
      "100%|██████████| 200/200 [07:30<00:00,  2.25s/it]\n"
     ]
    }
   ],
   "source": [
    "for i in progressbar(range(0,200)): \n",
    "    for j in driver.find_elements_by_xpath(\"//div[@class='_3LWZlK _1BLPMq' or @class='_3LWZlK _32lA32 _1BLPMq' or @class='_3LWZlK _1rdVr6 _1BLPMq']\"):\n",
    "        ratings5.append(j.text)\n",
    "        \n",
    "    for k in driver.find_elements_by_xpath(\"//div[@class='t-ZTKy']/div/div\"):\n",
    "        full_review5.append(k.text.replace('\\n',' '))\n",
    "    \n",
    "    button=driver.find_element_by_xpath(\"//*[contains(text(), 'Next')]\")\n",
    "    driver.execute_script(\"arguments[0].click();\", button)\n",
    "    \n",
    "    time.sleep(2)"
   ]
  },
  {
   "cell_type": "code",
   "execution_count": 132,
   "metadata": {},
   "outputs": [],
   "source": [
    "# Scraping Rating and Reviews of Professional Cameras from different URL\n",
    "url='https://www.flipkart.com/canon-eos-80d-dslr-camera-body-18-135-mm-lens/product-reviews/itm32a5545bf29fe?pid=CAMEHDMX8BPWDGVR&lid=LSTCAMEHDMX8BPWDGVR3AX3UE&marketplace=FLIPKART'"
   ]
  },
  {
   "cell_type": "code",
   "execution_count": 133,
   "metadata": {},
   "outputs": [],
   "source": [
    "# send get request to the webpage server to get the source code of the page\n",
    "driver.get(url)\n",
    "time.sleep(4)"
   ]
  },
  {
   "cell_type": "code",
   "execution_count": 134,
   "metadata": {},
   "outputs": [
    {
     "name": "stderr",
     "output_type": "stream",
     "text": [
      "100%|██████████| 11/11 [00:24<00:00,  2.27s/it]\n"
     ]
    }
   ],
   "source": [
    "for i in progressbar(range(0,11)): \n",
    "    for j in driver.find_elements_by_xpath(\"//div[@class='_3LWZlK _1BLPMq' or @class='_3LWZlK _32lA32 _1BLPMq' or @class='_3LWZlK _1rdVr6 _1BLPMq']\"):\n",
    "        ratings5.append(j.text)\n",
    "        \n",
    "    for k in driver.find_elements_by_xpath(\"//div[@class='t-ZTKy']/div/div\"):\n",
    "        full_review5.append(k.text.replace('\\n',' '))\n",
    "    \n",
    "    button=driver.find_element_by_xpath(\"//*[contains(text(), 'Next')]\")\n",
    "    driver.execute_script(\"arguments[0].click();\", button)\n",
    "    \n",
    "    time.sleep(2)"
   ]
  },
  {
   "cell_type": "code",
   "execution_count": 135,
   "metadata": {},
   "outputs": [
    {
     "data": {
      "text/plain": [
       "(2072, 2072)"
      ]
     },
     "execution_count": 135,
     "metadata": {},
     "output_type": "execute_result"
    }
   ],
   "source": [
    "len(ratings5),len(full_review5)"
   ]
  },
  {
   "cell_type": "markdown",
   "metadata": {},
   "source": [
    "### Scraping Printers data"
   ]
  },
  {
   "cell_type": "code",
   "execution_count": 136,
   "metadata": {},
   "outputs": [],
   "source": [
    "# Scraping Rating and Reviews of Printers from different URL\n",
    "url='https://www.flipkart.com/hp-deskjet-2331-multi-function-color-printer/product-reviews/itm5708dbe303a73?pid=PRNFTXAWZ9DZ2KHR&lid=LSTPRNFTXAWZ9DZ2KHRP7ZAXV&marketplace=FLIPKART'"
   ]
  },
  {
   "cell_type": "code",
   "execution_count": 137,
   "metadata": {},
   "outputs": [],
   "source": [
    "# send get request to the webpage server to get the source code of the page\n",
    "driver.get(url)\n",
    "time.sleep(4)"
   ]
  },
  {
   "cell_type": "code",
   "execution_count": 138,
   "metadata": {},
   "outputs": [],
   "source": [
    "# creating empty lists\n",
    "ratings6=[]\n",
    "full_review6=[]"
   ]
  },
  {
   "cell_type": "code",
   "execution_count": 139,
   "metadata": {},
   "outputs": [
    {
     "name": "stderr",
     "output_type": "stream",
     "text": [
      "100%|██████████| 100/100 [03:43<00:00,  2.23s/it]\n"
     ]
    }
   ],
   "source": [
    "for i in progressbar(range(0,100)): \n",
    "    for j in driver.find_elements_by_xpath(\"//div[@class='_3LWZlK _1BLPMq' or @class='_3LWZlK _32lA32 _1BLPMq' or @class='_3LWZlK _1rdVr6 _1BLPMq']\"):\n",
    "        ratings6.append(j.text)\n",
    "        \n",
    "    for k in driver.find_elements_by_xpath(\"//div[@class='t-ZTKy']/div/div\"):\n",
    "        full_review6.append(k.text.replace('\\n',' '))\n",
    "    \n",
    "    button=driver.find_element_by_xpath(\"//*[contains(text(), 'Next')]\")\n",
    "    driver.execute_script(\"arguments[0].click();\", button)\n",
    "    \n",
    "    time.sleep(2)"
   ]
  },
  {
   "cell_type": "code",
   "execution_count": 140,
   "metadata": {},
   "outputs": [],
   "source": [
    "# Scraping Rating and Reviews of Printers from different URL\n",
    "url='https://www.flipkart.com/canon-g3012-multi-function-wifi-color-printer/product-reviews/itmf2qc6hhx4pkua?pid=PRNF2QC6BX5M9NAJ&lid=LSTPRNF2QC6BX5M9NAJ55JYAH&marketplace=FLIPKART'"
   ]
  },
  {
   "cell_type": "code",
   "execution_count": 141,
   "metadata": {},
   "outputs": [],
   "source": [
    "# send get request to the webpage server to get the source code of the page\n",
    "driver.get(url)\n",
    "time.sleep(4)"
   ]
  },
  {
   "cell_type": "code",
   "execution_count": 142,
   "metadata": {},
   "outputs": [
    {
     "name": "stderr",
     "output_type": "stream",
     "text": [
      "100%|██████████| 75/75 [02:48<00:00,  2.25s/it]\n"
     ]
    }
   ],
   "source": [
    "for i in progressbar(range(0,75)): \n",
    "    for j in driver.find_elements_by_xpath(\"//div[@class='_3LWZlK _1BLPMq' or @class='_3LWZlK _32lA32 _1BLPMq' or @class='_3LWZlK _1rdVr6 _1BLPMq']\"):\n",
    "        ratings6.append(j.text)\n",
    "        \n",
    "    for k in driver.find_elements_by_xpath(\"//div[@class='t-ZTKy']/div/div\"):\n",
    "        full_review6.append(k.text.replace('\\n',' '))\n",
    "    \n",
    "    button=driver.find_element_by_xpath(\"//*[contains(text(), 'Next')]\")\n",
    "    driver.execute_script(\"arguments[0].click();\", button)\n",
    "    \n",
    "    time.sleep(2)"
   ]
  },
  {
   "cell_type": "code",
   "execution_count": 144,
   "metadata": {},
   "outputs": [],
   "source": [
    "# Scraping Rating and Reviews of Printers from different URL\n",
    "url='https://www.flipkart.com/brother-hl-l2321d-ind-single-function-monochrome-laser-printer/product-reviews/itmb1ed6ea188a9d?pid=PRNE58NYGHN62KFG&lid=LSTPRNE58NYGHN62KFG54RP31&marketplace=FLIPKART'"
   ]
  },
  {
   "cell_type": "code",
   "execution_count": 145,
   "metadata": {},
   "outputs": [],
   "source": [
    "# send get request to the webpage server to get the source code of the page\n",
    "driver.get(url)\n",
    "time.sleep(4)"
   ]
  },
  {
   "cell_type": "code",
   "execution_count": 146,
   "metadata": {},
   "outputs": [
    {
     "name": "stderr",
     "output_type": "stream",
     "text": [
      "100%|██████████| 45/45 [01:42<00:00,  2.28s/it]\n"
     ]
    }
   ],
   "source": [
    "for i in progressbar(range(0,45)): \n",
    "    for j in driver.find_elements_by_xpath(\"//div[@class='_3LWZlK _1BLPMq' or @class='_3LWZlK _32lA32 _1BLPMq' or @class='_3LWZlK _1rdVr6 _1BLPMq']\"):\n",
    "        ratings6.append(j.text)\n",
    "        \n",
    "    for k in driver.find_elements_by_xpath(\"//div[@class='t-ZTKy']/div/div\"):\n",
    "        full_review6.append(k.text.replace('\\n',' '))\n",
    "    \n",
    "    button=driver.find_element_by_xpath(\"//*[contains(text(), 'Next')]\")\n",
    "    driver.execute_script(\"arguments[0].click();\", button)\n",
    "    \n",
    "    time.sleep(2)"
   ]
  },
  {
   "cell_type": "code",
   "execution_count": 147,
   "metadata": {},
   "outputs": [
    {
     "data": {
      "text/plain": [
       "(1941, 1941)"
      ]
     },
     "execution_count": 147,
     "metadata": {},
     "output_type": "execute_result"
    }
   ],
   "source": [
    "len(ratings6),len(full_review6)"
   ]
  },
  {
   "cell_type": "markdown",
   "metadata": {},
   "source": [
    "### Scraping Monitors data"
   ]
  },
  {
   "cell_type": "code",
   "execution_count": 148,
   "metadata": {},
   "outputs": [],
   "source": [
    "# Scraping Rating and Reviews of Monitors from different URL\n",
    "url='https://www.flipkart.com/acer-19-5-inch-hd-led-backlit-tn-panel-monitor-v206hql/product-reviews/itmeygcwhszg2vfh?pid=MONEYGCHK5GHSN6B&lid=LSTMONEYGCHK5GHSN6BEC82ID&marketplace=FLIPKART'"
   ]
  },
  {
   "cell_type": "code",
   "execution_count": 150,
   "metadata": {},
   "outputs": [],
   "source": [
    "# send get request to the webpage server to get the source code of the page\n",
    "driver.get(url)\n",
    "time.sleep(4)"
   ]
  },
  {
   "cell_type": "code",
   "execution_count": 151,
   "metadata": {},
   "outputs": [],
   "source": [
    "# creating empty lists\n",
    "ratings7=[]\n",
    "full_review7=[]"
   ]
  },
  {
   "cell_type": "code",
   "execution_count": 152,
   "metadata": {},
   "outputs": [
    {
     "name": "stderr",
     "output_type": "stream",
     "text": [
      "100%|██████████| 255/255 [09:22<00:00,  2.21s/it]\n"
     ]
    }
   ],
   "source": [
    "for i in progressbar(range(0,255)): \n",
    "    for j in driver.find_elements_by_xpath(\"//div[@class='_3LWZlK _1BLPMq' or @class='_3LWZlK _32lA32 _1BLPMq' or @class='_3LWZlK _1rdVr6 _1BLPMq']\"):\n",
    "        ratings7.append(j.text)\n",
    "        \n",
    "    for k in driver.find_elements_by_xpath(\"//div[@class='t-ZTKy']/div/div\"):\n",
    "        full_review7.append(k.text.replace('\\n',' '))\n",
    "    \n",
    "    button=driver.find_element_by_xpath(\"//*[contains(text(), 'Next')]\")\n",
    "    driver.execute_script(\"arguments[0].click();\", button)\n",
    "    \n",
    "    time.sleep(2)"
   ]
  },
  {
   "cell_type": "code",
   "execution_count": 153,
   "metadata": {},
   "outputs": [
    {
     "data": {
      "text/plain": [
       "(2517, 2517)"
      ]
     },
     "execution_count": 153,
     "metadata": {},
     "output_type": "execute_result"
    }
   ],
   "source": [
    "len(ratings7),len(full_review7)"
   ]
  },
  {
   "cell_type": "markdown",
   "metadata": {},
   "source": [
    "### Scraping Home Theater data"
   ]
  },
  {
   "cell_type": "code",
   "execution_count": 167,
   "metadata": {},
   "outputs": [],
   "source": [
    "# Scraping Rating and Reviews of Home Theater from different URL\n",
    "url='https://www.flipkart.com/zebronics-zeb-bt-6590-rucf-65-w-bluetooth-home-theatre/product-reviews/itmdc254e0713966?pid=ACCEFDYCSTWHUDB4&lid=LSTACCEFDYCSTWHUDB46OV2KW&marketplace=FLIPKART'"
   ]
  },
  {
   "cell_type": "code",
   "execution_count": 181,
   "metadata": {},
   "outputs": [],
   "source": [
    "# send get request to the webpage server to get the source code of the page\n",
    "driver.get(url)\n",
    "time.sleep(4)"
   ]
  },
  {
   "cell_type": "code",
   "execution_count": 182,
   "metadata": {},
   "outputs": [],
   "source": [
    "# creating empty lists\n",
    "ratings8=[]\n",
    "full_review8=[]"
   ]
  },
  {
   "cell_type": "code",
   "execution_count": 184,
   "metadata": {},
   "outputs": [
    {
     "name": "stderr",
     "output_type": "stream",
     "text": [
      "100%|██████████| 102/102 [04:06<00:00,  2.42s/it]\n"
     ]
    }
   ],
   "source": [
    "for i in progressbar(range(0,102)): \n",
    "    for j in driver.find_elements_by_xpath(\"//div[@class='_3LWZlK _1BLPMq' or @class='_3LWZlK _32lA32 _1BLPMq' or @class='_3LWZlK _1rdVr6 _1BLPMq']\"):\n",
    "        ratings8.append(j.text)\n",
    "        \n",
    "    for k in driver.find_elements_by_xpath(\"//div[@class='t-ZTKy']/div/div\"):\n",
    "        full_review8.append(k.text.replace('\\n',' '))\n",
    "    \n",
    "    button=driver.find_element_by_xpath(\"//*[contains(text(), 'Next')]\")\n",
    "    driver.execute_script(\"arguments[0].click();\", button)\n",
    "    \n",
    "    time.sleep(2)"
   ]
  },
  {
   "cell_type": "code",
   "execution_count": 187,
   "metadata": {},
   "outputs": [],
   "source": [
    "# Scraping Rating and Reviews of Home Theater from different URL\n",
    "url='https://www.flipkart.com/philips-spa8140b-94-38-w-bluetooth-home-theatre/product-reviews/itmex3yybthtgttg?pid=ACCEX3YYQMVCGVYS&lid=LSTACCEX3YYQMVCGVYSXSUYFY&marketplace=FLIPKART'"
   ]
  },
  {
   "cell_type": "code",
   "execution_count": 188,
   "metadata": {},
   "outputs": [],
   "source": [
    "# send get request to the webpage server to get the source code of the page\n",
    "driver.get(url)\n",
    "time.sleep(4)"
   ]
  },
  {
   "cell_type": "code",
   "execution_count": 189,
   "metadata": {},
   "outputs": [
    {
     "name": "stderr",
     "output_type": "stream",
     "text": [
      "100%|██████████| 125/125 [05:12<00:00,  2.50s/it]\n"
     ]
    }
   ],
   "source": [
    "for i in progressbar(range(0,125)): \n",
    "    for j in driver.find_elements_by_xpath(\"//div[@class='_3LWZlK _1BLPMq' or @class='_3LWZlK _32lA32 _1BLPMq' or @class='_3LWZlK _1rdVr6 _1BLPMq']\"):\n",
    "        ratings8.append(j.text)\n",
    "        \n",
    "    for k in driver.find_elements_by_xpath(\"//div[@class='t-ZTKy']/div/div\"):\n",
    "        full_review8.append(k.text.replace('\\n',' '))\n",
    "    \n",
    "    button=driver.find_element_by_xpath(\"//*[contains(text(), 'Next')]\")\n",
    "    driver.execute_script(\"arguments[0].click();\", button)\n",
    "    \n",
    "    time.sleep(2)"
   ]
  },
  {
   "cell_type": "markdown",
   "metadata": {},
   "source": [
    "### Scraping Routers data"
   ]
  },
  {
   "cell_type": "code",
   "execution_count": 192,
   "metadata": {},
   "outputs": [],
   "source": [
    "# Scraping Rating and Reviews of Routers from different URL\n",
    "url='https://www.flipkart.com/d-link-dir-819-750-mbps-wireless-router/product-reviews/itmff2hynmhzhtqa?pid=RTRFF2HYYUYHCGGK&lid=LSTRTRFF2HYYUYHCGGKB3BKOG&marketplace=FLIPKART'"
   ]
  },
  {
   "cell_type": "code",
   "execution_count": 193,
   "metadata": {},
   "outputs": [],
   "source": [
    "# send get request to the webpage server to get the source code of the page\n",
    "driver.get(url)\n",
    "time.sleep(4)"
   ]
  },
  {
   "cell_type": "code",
   "execution_count": 194,
   "metadata": {},
   "outputs": [],
   "source": [
    "# creating empty lists\n",
    "ratings9=[]\n",
    "full_review9=[]"
   ]
  },
  {
   "cell_type": "code",
   "execution_count": 195,
   "metadata": {},
   "outputs": [
    {
     "name": "stderr",
     "output_type": "stream",
     "text": [
      "100%|██████████| 200/200 [07:48<00:00,  2.34s/it]\n"
     ]
    }
   ],
   "source": [
    "for i in progressbar(range(0,200)): \n",
    "    for j in driver.find_elements_by_xpath(\"//div[@class='_3LWZlK _1BLPMq' or @class='_3LWZlK _32lA32 _1BLPMq' or @class='_3LWZlK _1rdVr6 _1BLPMq']\"):\n",
    "        ratings9.append(j.text)\n",
    "        \n",
    "    for k in driver.find_elements_by_xpath(\"//div[@class='t-ZTKy']/div/div\"):\n",
    "        full_review9.append(k.text.replace('\\n',' '))\n",
    "    \n",
    "    button=driver.find_element_by_xpath(\"//*[contains(text(), 'Next')]\")\n",
    "    driver.execute_script(\"arguments[0].click();\", button)\n",
    "    \n",
    "    time.sleep(2)"
   ]
  },
  {
   "cell_type": "code",
   "execution_count": 196,
   "metadata": {},
   "outputs": [
    {
     "data": {
      "text/plain": [
       "1800"
      ]
     },
     "execution_count": 196,
     "metadata": {},
     "output_type": "execute_result"
    }
   ],
   "source": [
    "len(ratings9)"
   ]
  },
  {
   "cell_type": "code",
   "execution_count": 197,
   "metadata": {},
   "outputs": [],
   "source": [
    "# Scraping Rating and Reviews of Routers from different URL\n",
    "url='https://www.flipkart.com/tp-link-tl-wr845n-wireless-n-300-mbps-router/product-reviews/itmek2vgemkzrre3?pid=RTREK2VG4GBDUKFN&lid=LSTRTREK2VG4GBDUKFNWTGK6J&marketplace=FLIPKART'"
   ]
  },
  {
   "cell_type": "code",
   "execution_count": 198,
   "metadata": {},
   "outputs": [],
   "source": [
    "# send get request to the webpage server to get the source code of the page\n",
    "driver.get(url)\n",
    "time.sleep(4)"
   ]
  },
  {
   "cell_type": "code",
   "execution_count": 199,
   "metadata": {},
   "outputs": [
    {
     "name": "stderr",
     "output_type": "stream",
     "text": [
      "100%|██████████| 150/150 [05:56<00:00,  2.38s/it]\n"
     ]
    }
   ],
   "source": [
    "for i in progressbar(range(0,150)): \n",
    "    for j in driver.find_elements_by_xpath(\"//div[@class='_3LWZlK _1BLPMq' or @class='_3LWZlK _32lA32 _1BLPMq' or @class='_3LWZlK _1rdVr6 _1BLPMq']\"):\n",
    "        ratings9.append(j.text)\n",
    "        \n",
    "    for k in driver.find_elements_by_xpath(\"//div[@class='t-ZTKy']/div/div\"):\n",
    "        full_review9.append(k.text.replace('\\n',' '))\n",
    "    \n",
    "    button=driver.find_element_by_xpath(\"//*[contains(text(), 'Next')]\")\n",
    "    driver.execute_script(\"arguments[0].click();\", button)\n",
    "    \n",
    "    time.sleep(2)"
   ]
  },
  {
   "cell_type": "code",
   "execution_count": 200,
   "metadata": {},
   "outputs": [
    {
     "data": {
      "text/plain": [
       "3259"
      ]
     },
     "execution_count": 200,
     "metadata": {},
     "output_type": "execute_result"
    }
   ],
   "source": [
    "len(ratings9)"
   ]
  },
  {
   "cell_type": "markdown",
   "metadata": {},
   "source": [
    "### Scraping Tablets data"
   ]
  },
  {
   "cell_type": "code",
   "execution_count": 201,
   "metadata": {},
   "outputs": [],
   "source": [
    "# Scraping Rating and Reviews of Tablets from different URL\n",
    "url='https://www.flipkart.com/realme-pad-4-gb-ram-64-rom-10-4-inch-wi-fi-4g-tablet-grey/product-reviews/itmd907848549542?pid=TABG6AGQ6DVRCMUH&lid=LSTTABG6AGQ6DVRCMUHAZGFS5&marketplace=FLIPKART'"
   ]
  },
  {
   "cell_type": "code",
   "execution_count": 202,
   "metadata": {},
   "outputs": [],
   "source": [
    "# send get request to the webpage server to get the source code of the page\n",
    "driver.get(url)\n",
    "time.sleep(4)"
   ]
  },
  {
   "cell_type": "code",
   "execution_count": 203,
   "metadata": {},
   "outputs": [],
   "source": [
    "# creating empty lists\n",
    "ratings10=[]\n",
    "full_review10=[]"
   ]
  },
  {
   "cell_type": "code",
   "execution_count": 204,
   "metadata": {},
   "outputs": [
    {
     "name": "stderr",
     "output_type": "stream",
     "text": [
      "100%|██████████| 130/130 [04:40<00:00,  2.15s/it]\n"
     ]
    }
   ],
   "source": [
    "for i in progressbar(range(0,130)): \n",
    "    for j in driver.find_elements_by_xpath(\"//div[@class='_3LWZlK _1BLPMq' or @class='_3LWZlK _32lA32 _1BLPMq' or @class='_3LWZlK _1rdVr6 _1BLPMq']\"):\n",
    "        ratings10.append(j.text)\n",
    "        \n",
    "    for k in driver.find_elements_by_xpath(\"//div[@class='t-ZTKy']/div/div\"):\n",
    "        full_review10.append(k.text.replace('\\n',' '))\n",
    "    \n",
    "    button=driver.find_element_by_xpath(\"//*[contains(text(), 'Next')]\")\n",
    "    driver.execute_script(\"arguments[0].click();\", button)\n",
    "    \n",
    "    time.sleep(2)"
   ]
  },
  {
   "cell_type": "code",
   "execution_count": 205,
   "metadata": {},
   "outputs": [
    {
     "data": {
      "text/plain": [
       "414"
      ]
     },
     "execution_count": 205,
     "metadata": {},
     "output_type": "execute_result"
    }
   ],
   "source": [
    "len(ratings10)"
   ]
  },
  {
   "cell_type": "code",
   "execution_count": 206,
   "metadata": {},
   "outputs": [],
   "source": [
    "# Scraping Rating and Reviews of Tablets from different URL\n",
    "url='https://www.flipkart.com/samsung-galaxy-tab-s6-lite-4-gb-ram-64-rom-10-4-inch-wi-fi-4g-tablet-oxford-grey/product-reviews/itmcaf942552a522?pid=TABFSEH2GWCSH6HG&lid=LSTTABFSEH2GWCSH6HGYGN4GH&marketplace=FLIPKART'"
   ]
  },
  {
   "cell_type": "code",
   "execution_count": 207,
   "metadata": {},
   "outputs": [],
   "source": [
    "# send get request to the webpage server to get the source code of the page\n",
    "driver.get(url)\n",
    "time.sleep(4)"
   ]
  },
  {
   "cell_type": "code",
   "execution_count": 208,
   "metadata": {},
   "outputs": [
    {
     "name": "stderr",
     "output_type": "stream",
     "text": [
      "100%|██████████| 52/52 [02:01<00:00,  2.33s/it]\n"
     ]
    }
   ],
   "source": [
    "for i in progressbar(range(0,52)): \n",
    "    for j in driver.find_elements_by_xpath(\"//div[@class='_3LWZlK _1BLPMq' or @class='_3LWZlK _32lA32 _1BLPMq' or @class='_3LWZlK _1rdVr6 _1BLPMq']\"):\n",
    "        ratings10.append(j.text)\n",
    "    \n",
    "    for k in driver.find_elements_by_xpath(\"//div[@class='t-ZTKy']/div/div\"):\n",
    "        full_review10.append(k.text.replace('\\n',' '))\n",
    "    \n",
    "    button=driver.find_element_by_xpath(\"//*[contains(text(), 'Next')]\")\n",
    "    driver.execute_script(\"arguments[0].click();\", button)\n",
    "    \n",
    "    time.sleep(2)"
   ]
  },
  {
   "cell_type": "code",
   "execution_count": 210,
   "metadata": {},
   "outputs": [],
   "source": [
    "# Scraping Rating and Reviews of Tablets from different URL\n",
    "url='https://www.flipkart.com/lenovo-yoga-smart-tab-google-assistant-4-gb-ram-64-rom-10-1-inch-wi-fi-4g-tablet-iron-grey/product-reviews/itm23ed2607129a4?pid=TABFRP4RPQBQJSYY&lid=LSTTABFRP4RPQBQJSYYLUCXPG&marketplace=FLIPKART'"
   ]
  },
  {
   "cell_type": "code",
   "execution_count": 211,
   "metadata": {},
   "outputs": [],
   "source": [
    "# send get request to the webpage server to get the source code of the page\n",
    "driver.get(url)\n",
    "time.sleep(4)"
   ]
  },
  {
   "cell_type": "code",
   "execution_count": 212,
   "metadata": {},
   "outputs": [
    {
     "name": "stderr",
     "output_type": "stream",
     "text": [
      "100%|██████████| 95/95 [03:40<00:00,  2.32s/it]\n"
     ]
    }
   ],
   "source": [
    "for i in progressbar(range(0,95)): \n",
    "    for j in driver.find_elements_by_xpath(\"//div[@class='_3LWZlK _1BLPMq' or @class='_3LWZlK _32lA32 _1BLPMq' or @class='_3LWZlK _1rdVr6 _1BLPMq']\"):\n",
    "        ratings10.append(j.text)\n",
    "    \n",
    "    for k in driver.find_elements_by_xpath(\"//div[@class='t-ZTKy']/div/div\"):\n",
    "        full_review10.append(k.text.replace('\\n',' '))\n",
    "    \n",
    "    button=driver.find_element_by_xpath(\"//*[contains(text(), 'Next')]\")\n",
    "    driver.execute_script(\"arguments[0].click();\", button)\n",
    "    \n",
    "    time.sleep(2)"
   ]
  },
  {
   "cell_type": "code",
   "execution_count": 213,
   "metadata": {},
   "outputs": [
    {
     "data": {
      "text/plain": [
       "1759"
      ]
     },
     "execution_count": 213,
     "metadata": {},
     "output_type": "execute_result"
    }
   ],
   "source": [
    "len(ratings10)"
   ]
  },
  {
   "cell_type": "code",
   "execution_count": 214,
   "metadata": {},
   "outputs": [],
   "source": [
    "ratings=(ratings1 + ratings2 + ratings3 + ratings4 + ratings5 + ratings6 + ratings7 + ratings8 + ratings9 + ratings10)"
   ]
  },
  {
   "cell_type": "code",
   "execution_count": 215,
   "metadata": {},
   "outputs": [],
   "source": [
    "full_review=(full_review1 + full_review2 + full_review3 + full_review4 + full_review5 + full_review6 + full_review7 +\n",
    "             full_review8 + full_review9 + full_review10) "
   ]
  },
  {
   "cell_type": "code",
   "execution_count": 216,
   "metadata": {},
   "outputs": [
    {
     "data": {
      "text/html": [
       "<div>\n",
       "<style scoped>\n",
       "    .dataframe tbody tr th:only-of-type {\n",
       "        vertical-align: middle;\n",
       "    }\n",
       "\n",
       "    .dataframe tbody tr th {\n",
       "        vertical-align: top;\n",
       "    }\n",
       "\n",
       "    .dataframe thead th {\n",
       "        text-align: right;\n",
       "    }\n",
       "</style>\n",
       "<table border=\"1\" class=\"dataframe\">\n",
       "  <thead>\n",
       "    <tr style=\"text-align: right;\">\n",
       "      <th></th>\n",
       "      <th>Ratings</th>\n",
       "      <th>Full Review</th>\n",
       "    </tr>\n",
       "  </thead>\n",
       "  <tbody>\n",
       "    <tr>\n",
       "      <th>0</th>\n",
       "      <td>5</td>\n",
       "      <td>It's very good to this price.....I really than...</td>\n",
       "    </tr>\n",
       "    <tr>\n",
       "      <th>1</th>\n",
       "      <td>5</td>\n",
       "      <td>Performance are too good and friendly budget a...</td>\n",
       "    </tr>\n",
       "    <tr>\n",
       "      <th>2</th>\n",
       "      <td>5</td>\n",
       "      <td>Seriously awwsm .. pls go for it without any h...</td>\n",
       "    </tr>\n",
       "    <tr>\n",
       "      <th>3</th>\n",
       "      <td>4</td>\n",
       "      <td>I am happy with this laptop. Good for basic us...</td>\n",
       "    </tr>\n",
       "    <tr>\n",
       "      <th>4</th>\n",
       "      <td>5</td>\n",
       "      <td>I have just received the laptop today and am v...</td>\n",
       "    </tr>\n",
       "    <tr>\n",
       "      <th>...</th>\n",
       "      <td>...</td>\n",
       "      <td>...</td>\n",
       "    </tr>\n",
       "    <tr>\n",
       "      <th>24552</th>\n",
       "      <td>5</td>\n",
       "      <td>Overall good tab , camera quality is not good ...</td>\n",
       "    </tr>\n",
       "    <tr>\n",
       "      <th>24553</th>\n",
       "      <td>4</td>\n",
       "      <td>Good Tab in this price. You can buy it.</td>\n",
       "    </tr>\n",
       "    <tr>\n",
       "      <th>24554</th>\n",
       "      <td>5</td>\n",
       "      <td>Every thing is good but bit heavy in weight.</td>\n",
       "    </tr>\n",
       "    <tr>\n",
       "      <th>24555</th>\n",
       "      <td>5</td>\n",
       "      <td>VERY NICE PRODUCT VALUE FOR MONEY</td>\n",
       "    </tr>\n",
       "    <tr>\n",
       "      <th>24556</th>\n",
       "      <td>5</td>\n",
       "      <td>Good display and loud sound makes it a perfect...</td>\n",
       "    </tr>\n",
       "  </tbody>\n",
       "</table>\n",
       "<p>24557 rows × 2 columns</p>\n",
       "</div>"
      ],
      "text/plain": [
       "      Ratings                                        Full Review\n",
       "0           5  It's very good to this price.....I really than...\n",
       "1           5  Performance are too good and friendly budget a...\n",
       "2           5  Seriously awwsm .. pls go for it without any h...\n",
       "3           4  I am happy with this laptop. Good for basic us...\n",
       "4           5  I have just received the laptop today and am v...\n",
       "...       ...                                                ...\n",
       "24552       5  Overall good tab , camera quality is not good ...\n",
       "24553       4            Good Tab in this price. You can buy it.\n",
       "24554       5       Every thing is good but bit heavy in weight.\n",
       "24555       5                  VERY NICE PRODUCT VALUE FOR MONEY\n",
       "24556       5  Good display and loud sound makes it a perfect...\n",
       "\n",
       "[24557 rows x 2 columns]"
      ]
     },
     "execution_count": 216,
     "metadata": {},
     "output_type": "execute_result"
    }
   ],
   "source": [
    "Prediction=pd.DataFrame({})            # making dataframe\n",
    "Prediction['Ratings']= ratings\n",
    "Prediction['Full Review']= full_review\n",
    "Prediction"
   ]
  },
  {
   "cell_type": "code",
   "execution_count": 217,
   "metadata": {},
   "outputs": [],
   "source": [
    "compression_opts = dict(method='zip',\n",
    "                        archive_name='Review_Prediction.csv')  \n",
    "Prediction.to_csv('Review_Prediction.zip', index=False,\n",
    "          compression=compression_opts) "
   ]
  },
  {
   "cell_type": "code",
   "execution_count": 218,
   "metadata": {},
   "outputs": [],
   "source": [
    "driver.close()"
   ]
  }
 ],
 "metadata": {
  "kernelspec": {
   "display_name": "Python 3",
   "language": "python",
   "name": "python3"
  },
  "language_info": {
   "codemirror_mode": {
    "name": "ipython",
    "version": 3
   },
   "file_extension": ".py",
   "mimetype": "text/x-python",
   "name": "python",
   "nbconvert_exporter": "python",
   "pygments_lexer": "ipython3",
   "version": "3.8.8"
  }
 },
 "nbformat": 4,
 "nbformat_minor": 4
}
