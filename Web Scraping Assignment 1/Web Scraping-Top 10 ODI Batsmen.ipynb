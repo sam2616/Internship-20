{
 "cells": [
  {
   "cell_type": "code",
   "execution_count": null,
   "id": "f454c698",
   "metadata": {},
   "outputs": [],
   "source": [
    "from bs4 import BeautifulSoup\n",
    "import requests\n",
    "import pandas as pd"
   ]
  },
  {
   "cell_type": "code",
   "execution_count": null,
   "id": "2e71bbbd",
   "metadata": {},
   "outputs": [],
   "source": [
    "page=requests.get(\"https://www.icc-cricket.com/rankings/mens/player-rankings/odi/batting\")"
   ]
  },
  {
   "cell_type": "code",
   "execution_count": null,
   "id": "9fa4eee6",
   "metadata": {},
   "outputs": [],
   "source": [
    "page"
   ]
  },
  {
   "cell_type": "code",
   "execution_count": null,
   "id": "51a232ef",
   "metadata": {},
   "outputs": [],
   "source": [
    "soup=BeautifulSoup(page.content)"
   ]
  },
  {
   "cell_type": "code",
   "execution_count": null,
   "id": "56a62429",
   "metadata": {},
   "outputs": [],
   "source": [
    "rating=soup.find_all('td',class_=\"table-body__cell rating\")"
   ]
  },
  {
   "cell_type": "code",
   "execution_count": null,
   "id": "c3633b23",
   "metadata": {},
   "outputs": [],
   "source": [
    "Ratings=[]"
   ]
  },
  {
   "cell_type": "code",
   "execution_count": null,
   "id": "f3b3733c",
   "metadata": {},
   "outputs": [],
   "source": [
    "Rating=soup.find('div',class_=\"rankings-block__banner--rating\")"
   ]
  },
  {
   "cell_type": "code",
   "execution_count": null,
   "id": "e5df661f",
   "metadata": {},
   "outputs": [],
   "source": [
    "Ratings.append(Rating.text)"
   ]
  },
  {
   "cell_type": "code",
   "execution_count": null,
   "id": "df664a80",
   "metadata": {},
   "outputs": [],
   "source": [
    "for i in rating:\n",
    "    Ratings.append(i.text)"
   ]
  },
  {
   "cell_type": "code",
   "execution_count": null,
   "id": "dc6bb2d8",
   "metadata": {},
   "outputs": [],
   "source": [
    "name=soup.find('div',class_=\"rankings-block__banner--name-large\")"
   ]
  },
  {
   "cell_type": "code",
   "execution_count": null,
   "id": "0a65f9f1",
   "metadata": {},
   "outputs": [],
   "source": [
    "Player_name=[]"
   ]
  },
  {
   "cell_type": "code",
   "execution_count": null,
   "id": "7c393df1",
   "metadata": {},
   "outputs": [],
   "source": [
    "Player_name.append(name.text)"
   ]
  },
  {
   "cell_type": "code",
   "execution_count": null,
   "id": "25231bd7",
   "metadata": {},
   "outputs": [],
   "source": [
    "Name=soup.find_all('td',class_=\"table-body__cell rankings-table__name name\")"
   ]
  },
  {
   "cell_type": "code",
   "execution_count": null,
   "id": "2aaf1b83",
   "metadata": {},
   "outputs": [],
   "source": [
    "for i in Name:\n",
    "    for j in i.find_all('a',href=True):\n",
    "        Player_name.append(j.text)"
   ]
  },
  {
   "cell_type": "code",
   "execution_count": null,
   "id": "ffb34d57",
   "metadata": {},
   "outputs": [],
   "source": [
    "Teams=[]"
   ]
  },
  {
   "cell_type": "code",
   "execution_count": null,
   "id": "7562c55f",
   "metadata": {},
   "outputs": [],
   "source": [
    "team=soup.find('div',class_=\"rankings-block__banner--nationality\")"
   ]
  },
  {
   "cell_type": "code",
   "execution_count": null,
   "id": "797cd27a",
   "metadata": {},
   "outputs": [],
   "source": [
    "Teams.append(team.text.replace(\"\\n\",\"\").strip())"
   ]
  },
  {
   "cell_type": "code",
   "execution_count": null,
   "id": "abb7e747",
   "metadata": {},
   "outputs": [],
   "source": [
    "Team=soup.find_all('span',class_=\"table-body__logo-text\")"
   ]
  },
  {
   "cell_type": "code",
   "execution_count": null,
   "id": "11db0a27",
   "metadata": {},
   "outputs": [],
   "source": [
    "for i in Team:\n",
    "    Teams.append(i.text)"
   ]
  },
  {
   "cell_type": "code",
   "execution_count": null,
   "id": "f6fd2bcc",
   "metadata": {},
   "outputs": [],
   "source": [
    "Top_ODI_Batsmen=pd.DataFrame({})"
   ]
  },
  {
   "cell_type": "code",
   "execution_count": null,
   "id": "1ae937c5",
   "metadata": {},
   "outputs": [],
   "source": [
    "Top_ODI_Batsmen['Player Name']=Player_name\n",
    "Top_ODI_Batsmen['Team']=Teams\n",
    "Top_ODI_Batsmen['Rating']=Ratings"
   ]
  },
  {
   "cell_type": "code",
   "execution_count": null,
   "id": "99a2dd20",
   "metadata": {},
   "outputs": [],
   "source": [
    "Top_10_ODI_batsmen=Top_ODI_Batsmen[0:10]"
   ]
  },
  {
   "cell_type": "code",
   "execution_count": null,
   "id": "025f696b",
   "metadata": {},
   "outputs": [],
   "source": [
    "Top_10_ODI_batsmen.index=Top_10_ODI_batsmen.index+1"
   ]
  },
  {
   "cell_type": "code",
   "execution_count": null,
   "id": "9f7972eb",
   "metadata": {},
   "outputs": [],
   "source": [
    "Top_10_ODI_batsmen.index.name='Ranking'"
   ]
  },
  {
   "cell_type": "code",
   "execution_count": null,
   "id": "5345ec92",
   "metadata": {},
   "outputs": [],
   "source": [
    "Top_10_ODI_batsmen"
   ]
  },
  {
   "cell_type": "code",
   "execution_count": null,
   "id": "d32d542c",
   "metadata": {},
   "outputs": [],
   "source": []
  }
 ],
 "metadata": {
  "kernelspec": {
   "display_name": "Python 3",
   "language": "python",
   "name": "python3"
  },
  "language_info": {
   "codemirror_mode": {
    "name": "ipython",
    "version": 3
   },
   "file_extension": ".py",
   "mimetype": "text/x-python",
   "name": "python",
   "nbconvert_exporter": "python",
   "pygments_lexer": "ipython3",
   "version": "3.8.8"
  }
 },
 "nbformat": 4,
 "nbformat_minor": 5
}
