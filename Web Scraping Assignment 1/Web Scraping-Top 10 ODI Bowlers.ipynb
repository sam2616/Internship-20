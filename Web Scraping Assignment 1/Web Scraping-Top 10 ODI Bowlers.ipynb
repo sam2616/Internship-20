{
 "cells": [
  {
   "cell_type": "code",
   "execution_count": 1,
   "id": "f454c698",
   "metadata": {},
   "outputs": [],
   "source": [
    "from bs4 import BeautifulSoup\n",
    "import requests\n",
    "import pandas as pd"
   ]
  },
  {
   "cell_type": "code",
   "execution_count": 2,
   "id": "2e71bbbd",
   "metadata": {},
   "outputs": [],
   "source": [
    "page=requests.get(\"https://www.icc-cricket.com/rankings/mens/player-rankings/odi/bowling\")"
   ]
  },
  {
   "cell_type": "code",
   "execution_count": 3,
   "id": "9fa4eee6",
   "metadata": {},
   "outputs": [
    {
     "data": {
      "text/plain": [
       "<Response [200]>"
      ]
     },
     "execution_count": 3,
     "metadata": {},
     "output_type": "execute_result"
    }
   ],
   "source": [
    "page"
   ]
  },
  {
   "cell_type": "code",
   "execution_count": 4,
   "id": "51a232ef",
   "metadata": {},
   "outputs": [],
   "source": [
    "soup=BeautifulSoup(page.content)"
   ]
  },
  {
   "cell_type": "code",
   "execution_count": 5,
   "id": "56a62429",
   "metadata": {},
   "outputs": [],
   "source": [
    "rating=soup.find_all('td',class_=\"table-body__cell rating\")"
   ]
  },
  {
   "cell_type": "code",
   "execution_count": 6,
   "id": "c3633b23",
   "metadata": {},
   "outputs": [],
   "source": [
    "Ratings=[]"
   ]
  },
  {
   "cell_type": "code",
   "execution_count": 7,
   "id": "f3b3733c",
   "metadata": {},
   "outputs": [],
   "source": [
    "Rating=soup.find('div',class_=\"rankings-block__banner--rating\")"
   ]
  },
  {
   "cell_type": "code",
   "execution_count": 8,
   "id": "e5df661f",
   "metadata": {},
   "outputs": [],
   "source": [
    "Ratings.append(Rating.text)"
   ]
  },
  {
   "cell_type": "code",
   "execution_count": 9,
   "id": "df664a80",
   "metadata": {},
   "outputs": [],
   "source": [
    "for i in rating:\n",
    "    Ratings.append(i.text)"
   ]
  },
  {
   "cell_type": "code",
   "execution_count": 10,
   "id": "dc6bb2d8",
   "metadata": {},
   "outputs": [],
   "source": [
    "name=soup.find('div',class_=\"rankings-block__banner--name-large\")"
   ]
  },
  {
   "cell_type": "code",
   "execution_count": 11,
   "id": "0a65f9f1",
   "metadata": {},
   "outputs": [],
   "source": [
    "Player_name=[]"
   ]
  },
  {
   "cell_type": "code",
   "execution_count": 12,
   "id": "7c393df1",
   "metadata": {},
   "outputs": [],
   "source": [
    "Player_name.append(name.text)"
   ]
  },
  {
   "cell_type": "code",
   "execution_count": 13,
   "id": "25231bd7",
   "metadata": {},
   "outputs": [],
   "source": [
    "Name=soup.find_all('td',class_=\"table-body__cell rankings-table__name name\")"
   ]
  },
  {
   "cell_type": "code",
   "execution_count": 14,
   "id": "2aaf1b83",
   "metadata": {},
   "outputs": [],
   "source": [
    "for i in Name:\n",
    "    for j in i.find_all('a',href=True):\n",
    "        Player_name.append(j.text)"
   ]
  },
  {
   "cell_type": "code",
   "execution_count": 15,
   "id": "ffb34d57",
   "metadata": {},
   "outputs": [],
   "source": [
    "Teams=[]"
   ]
  },
  {
   "cell_type": "code",
   "execution_count": 16,
   "id": "7562c55f",
   "metadata": {},
   "outputs": [],
   "source": [
    "team=soup.find('div',class_=\"rankings-block__banner--nationality\")"
   ]
  },
  {
   "cell_type": "code",
   "execution_count": 17,
   "id": "797cd27a",
   "metadata": {},
   "outputs": [],
   "source": [
    "Teams.append(team.text.replace(\"\\n\",\"\").strip())"
   ]
  },
  {
   "cell_type": "code",
   "execution_count": 18,
   "id": "abb7e747",
   "metadata": {},
   "outputs": [],
   "source": [
    "Team=soup.find_all('span',class_=\"table-body__logo-text\")"
   ]
  },
  {
   "cell_type": "code",
   "execution_count": 19,
   "id": "11db0a27",
   "metadata": {},
   "outputs": [],
   "source": [
    "for i in Team:\n",
    "    Teams.append(i.text)"
   ]
  },
  {
   "cell_type": "code",
   "execution_count": 20,
   "id": "f6fd2bcc",
   "metadata": {},
   "outputs": [],
   "source": [
    "Top_ODI_Bowlers=pd.DataFrame({})"
   ]
  },
  {
   "cell_type": "code",
   "execution_count": 21,
   "id": "1ae937c5",
   "metadata": {},
   "outputs": [],
   "source": [
    "Top_ODI_Bowlers['Player Name']=Player_name\n",
    "Top_ODI_Bowlers['Team']=Teams\n",
    "Top_ODI_Bowlers['Rating']=Ratings"
   ]
  },
  {
   "cell_type": "code",
   "execution_count": 22,
   "id": "99a2dd20",
   "metadata": {},
   "outputs": [],
   "source": [
    "Top_10_ODI_bowlers=Top_ODI_Bowlers[0:10]"
   ]
  },
  {
   "cell_type": "code",
   "execution_count": 23,
   "id": "025f696b",
   "metadata": {},
   "outputs": [],
   "source": [
    "Top_10_ODI_bowlers.index=Top_10_ODI_bowlers.index+1"
   ]
  },
  {
   "cell_type": "code",
   "execution_count": 24,
   "id": "9f7972eb",
   "metadata": {},
   "outputs": [],
   "source": [
    "Top_10_ODI_bowlers.index.name='Ranking'"
   ]
  },
  {
   "cell_type": "code",
   "execution_count": 25,
   "id": "5345ec92",
   "metadata": {},
   "outputs": [
    {
     "data": {
      "text/html": [
       "<div>\n",
       "<style scoped>\n",
       "    .dataframe tbody tr th:only-of-type {\n",
       "        vertical-align: middle;\n",
       "    }\n",
       "\n",
       "    .dataframe tbody tr th {\n",
       "        vertical-align: top;\n",
       "    }\n",
       "\n",
       "    .dataframe thead th {\n",
       "        text-align: right;\n",
       "    }\n",
       "</style>\n",
       "<table border=\"1\" class=\"dataframe\">\n",
       "  <thead>\n",
       "    <tr style=\"text-align: right;\">\n",
       "      <th></th>\n",
       "      <th>Player Name</th>\n",
       "      <th>Team</th>\n",
       "      <th>Rating</th>\n",
       "    </tr>\n",
       "    <tr>\n",
       "      <th>Ranking</th>\n",
       "      <th></th>\n",
       "      <th></th>\n",
       "      <th></th>\n",
       "    </tr>\n",
       "  </thead>\n",
       "  <tbody>\n",
       "    <tr>\n",
       "      <th>1</th>\n",
       "      <td>Trent Boult</td>\n",
       "      <td>NZ</td>\n",
       "      <td>737</td>\n",
       "    </tr>\n",
       "    <tr>\n",
       "      <th>2</th>\n",
       "      <td>Josh Hazlewood</td>\n",
       "      <td>AUS</td>\n",
       "      <td>709</td>\n",
       "    </tr>\n",
       "    <tr>\n",
       "      <th>3</th>\n",
       "      <td>Mujeeb Ur Rahman</td>\n",
       "      <td>AFG</td>\n",
       "      <td>708</td>\n",
       "    </tr>\n",
       "    <tr>\n",
       "      <th>4</th>\n",
       "      <td>Chris Woakes</td>\n",
       "      <td>ENG</td>\n",
       "      <td>700</td>\n",
       "    </tr>\n",
       "    <tr>\n",
       "      <th>5</th>\n",
       "      <td>Mehedi Hasan</td>\n",
       "      <td>BAN</td>\n",
       "      <td>692</td>\n",
       "    </tr>\n",
       "    <tr>\n",
       "      <th>6</th>\n",
       "      <td>Matt Henry</td>\n",
       "      <td>NZ</td>\n",
       "      <td>691</td>\n",
       "    </tr>\n",
       "    <tr>\n",
       "      <th>7</th>\n",
       "      <td>Jasprit Bumrah</td>\n",
       "      <td>IND</td>\n",
       "      <td>679</td>\n",
       "    </tr>\n",
       "    <tr>\n",
       "      <th>8</th>\n",
       "      <td>Mitchell Starc</td>\n",
       "      <td>AUS</td>\n",
       "      <td>652</td>\n",
       "    </tr>\n",
       "    <tr>\n",
       "      <th>9</th>\n",
       "      <td>Shakib Al Hasan</td>\n",
       "      <td>BAN</td>\n",
       "      <td>650</td>\n",
       "    </tr>\n",
       "    <tr>\n",
       "      <th>10</th>\n",
       "      <td>Kagiso Rabada</td>\n",
       "      <td>SA</td>\n",
       "      <td>646</td>\n",
       "    </tr>\n",
       "  </tbody>\n",
       "</table>\n",
       "</div>"
      ],
      "text/plain": [
       "              Player Name Team Rating\n",
       "Ranking                              \n",
       "1             Trent Boult   NZ    737\n",
       "2          Josh Hazlewood  AUS    709\n",
       "3        Mujeeb Ur Rahman  AFG    708\n",
       "4            Chris Woakes  ENG    700\n",
       "5            Mehedi Hasan  BAN    692\n",
       "6              Matt Henry   NZ    691\n",
       "7          Jasprit Bumrah  IND    679\n",
       "8          Mitchell Starc  AUS    652\n",
       "9         Shakib Al Hasan  BAN    650\n",
       "10          Kagiso Rabada   SA    646"
      ]
     },
     "execution_count": 25,
     "metadata": {},
     "output_type": "execute_result"
    }
   ],
   "source": [
    "Top_10_ODI_bowlers"
   ]
  },
  {
   "cell_type": "code",
   "execution_count": null,
   "id": "d32d542c",
   "metadata": {},
   "outputs": [],
   "source": []
  }
 ],
 "metadata": {
  "kernelspec": {
   "display_name": "Python 3",
   "language": "python",
   "name": "python3"
  },
  "language_info": {
   "codemirror_mode": {
    "name": "ipython",
    "version": 3
   },
   "file_extension": ".py",
   "mimetype": "text/x-python",
   "name": "python",
   "nbconvert_exporter": "python",
   "pygments_lexer": "ipython3",
   "version": "3.8.8"
  }
 },
 "nbformat": 4,
 "nbformat_minor": 5
}
