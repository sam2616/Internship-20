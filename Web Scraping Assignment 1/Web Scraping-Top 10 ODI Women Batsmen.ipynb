{
 "cells": [
  {
   "cell_type": "code",
   "execution_count": 1,
   "id": "f454c698",
   "metadata": {},
   "outputs": [],
   "source": [
    "from bs4 import BeautifulSoup\n",
    "import requests\n",
    "import pandas as pd"
   ]
  },
  {
   "cell_type": "code",
   "execution_count": 2,
   "id": "2e71bbbd",
   "metadata": {},
   "outputs": [],
   "source": [
    "page=requests.get(\"https://www.icc-cricket.com/rankings/womens/player-rankings/odi/batting\")"
   ]
  },
  {
   "cell_type": "code",
   "execution_count": 3,
   "id": "9fa4eee6",
   "metadata": {},
   "outputs": [
    {
     "data": {
      "text/plain": [
       "<Response [200]>"
      ]
     },
     "execution_count": 3,
     "metadata": {},
     "output_type": "execute_result"
    }
   ],
   "source": [
    "page"
   ]
  },
  {
   "cell_type": "code",
   "execution_count": 4,
   "id": "51a232ef",
   "metadata": {},
   "outputs": [],
   "source": [
    "soup=BeautifulSoup(page.content)"
   ]
  },
  {
   "cell_type": "code",
   "execution_count": 5,
   "id": "56a62429",
   "metadata": {},
   "outputs": [],
   "source": [
    "rating=soup.find_all('td',class_=\"table-body__cell rating\")"
   ]
  },
  {
   "cell_type": "code",
   "execution_count": 6,
   "id": "c3633b23",
   "metadata": {},
   "outputs": [],
   "source": [
    "Ratings=[]"
   ]
  },
  {
   "cell_type": "code",
   "execution_count": 7,
   "id": "f3b3733c",
   "metadata": {},
   "outputs": [],
   "source": [
    "Rating=soup.find('div',class_=\"rankings-block__banner--rating\")"
   ]
  },
  {
   "cell_type": "code",
   "execution_count": 8,
   "id": "e5df661f",
   "metadata": {},
   "outputs": [],
   "source": [
    "Ratings.append(Rating.text)"
   ]
  },
  {
   "cell_type": "code",
   "execution_count": 9,
   "id": "df664a80",
   "metadata": {},
   "outputs": [],
   "source": [
    "for i in rating:\n",
    "    Ratings.append(i.text)"
   ]
  },
  {
   "cell_type": "code",
   "execution_count": 10,
   "id": "dc6bb2d8",
   "metadata": {},
   "outputs": [],
   "source": [
    "name=soup.find('div',class_=\"rankings-block__banner--name-large\")"
   ]
  },
  {
   "cell_type": "code",
   "execution_count": 11,
   "id": "0a65f9f1",
   "metadata": {},
   "outputs": [],
   "source": [
    "Player_name=[]"
   ]
  },
  {
   "cell_type": "code",
   "execution_count": 12,
   "id": "7c393df1",
   "metadata": {},
   "outputs": [],
   "source": [
    "Player_name.append(name.text)"
   ]
  },
  {
   "cell_type": "code",
   "execution_count": 13,
   "id": "25231bd7",
   "metadata": {},
   "outputs": [],
   "source": [
    "Name=soup.find_all('td',class_=\"table-body__cell rankings-table__name name\")"
   ]
  },
  {
   "cell_type": "code",
   "execution_count": 14,
   "id": "2aaf1b83",
   "metadata": {},
   "outputs": [],
   "source": [
    "for i in Name:\n",
    "    for j in i.find_all('a',href=True):\n",
    "        Player_name.append(j.text)"
   ]
  },
  {
   "cell_type": "code",
   "execution_count": 15,
   "id": "ffb34d57",
   "metadata": {},
   "outputs": [],
   "source": [
    "Teams=[]"
   ]
  },
  {
   "cell_type": "code",
   "execution_count": 16,
   "id": "7562c55f",
   "metadata": {},
   "outputs": [],
   "source": [
    "team=soup.find('div',class_=\"rankings-block__banner--nationality\")"
   ]
  },
  {
   "cell_type": "code",
   "execution_count": 17,
   "id": "797cd27a",
   "metadata": {},
   "outputs": [],
   "source": [
    "Teams.append(team.text.replace(\"\\n\",\"\").strip())"
   ]
  },
  {
   "cell_type": "code",
   "execution_count": 18,
   "id": "abb7e747",
   "metadata": {},
   "outputs": [],
   "source": [
    "Team=soup.find_all('span',class_=\"table-body__logo-text\")"
   ]
  },
  {
   "cell_type": "code",
   "execution_count": 19,
   "id": "11db0a27",
   "metadata": {},
   "outputs": [],
   "source": [
    "for i in Team:\n",
    "    Teams.append(i.text)"
   ]
  },
  {
   "cell_type": "code",
   "execution_count": 20,
   "id": "f6fd2bcc",
   "metadata": {},
   "outputs": [],
   "source": [
    "Top_ODI_Women_Batsmen=pd.DataFrame({})"
   ]
  },
  {
   "cell_type": "code",
   "execution_count": 21,
   "id": "1ae937c5",
   "metadata": {},
   "outputs": [],
   "source": [
    "Top_ODI_Women_Batsmen['Player Name']=Player_name\n",
    "Top_ODI_Women_Batsmen['Team']=Teams\n",
    "Top_ODI_Women_Batsmen['Rating']=Ratings"
   ]
  },
  {
   "cell_type": "code",
   "execution_count": 22,
   "id": "99a2dd20",
   "metadata": {},
   "outputs": [],
   "source": [
    "Top_10_ODI_Women_batsmen=Top_ODI_Women_Batsmen[0:10]"
   ]
  },
  {
   "cell_type": "code",
   "execution_count": 23,
   "id": "025f696b",
   "metadata": {},
   "outputs": [],
   "source": [
    "Top_10_ODI_Women_batsmen.index=Top_10_ODI_Women_batsmen.index+1"
   ]
  },
  {
   "cell_type": "code",
   "execution_count": 24,
   "id": "9f7972eb",
   "metadata": {},
   "outputs": [],
   "source": [
    "Top_10_ODI_Women_batsmen.index.name='Ranking'"
   ]
  },
  {
   "cell_type": "code",
   "execution_count": 25,
   "id": "5345ec92",
   "metadata": {},
   "outputs": [
    {
     "data": {
      "text/html": [
       "<div>\n",
       "<style scoped>\n",
       "    .dataframe tbody tr th:only-of-type {\n",
       "        vertical-align: middle;\n",
       "    }\n",
       "\n",
       "    .dataframe tbody tr th {\n",
       "        vertical-align: top;\n",
       "    }\n",
       "\n",
       "    .dataframe thead th {\n",
       "        text-align: right;\n",
       "    }\n",
       "</style>\n",
       "<table border=\"1\" class=\"dataframe\">\n",
       "  <thead>\n",
       "    <tr style=\"text-align: right;\">\n",
       "      <th></th>\n",
       "      <th>Player Name</th>\n",
       "      <th>Team</th>\n",
       "      <th>Rating</th>\n",
       "    </tr>\n",
       "    <tr>\n",
       "      <th>Ranking</th>\n",
       "      <th></th>\n",
       "      <th></th>\n",
       "      <th></th>\n",
       "    </tr>\n",
       "  </thead>\n",
       "  <tbody>\n",
       "    <tr>\n",
       "      <th>1</th>\n",
       "      <td>Mithali Raj</td>\n",
       "      <td>IND</td>\n",
       "      <td>762</td>\n",
       "    </tr>\n",
       "    <tr>\n",
       "      <th>2</th>\n",
       "      <td>Lizelle Lee</td>\n",
       "      <td>SA</td>\n",
       "      <td>761</td>\n",
       "    </tr>\n",
       "    <tr>\n",
       "      <th>3</th>\n",
       "      <td>Alyssa Healy</td>\n",
       "      <td>AUS</td>\n",
       "      <td>756</td>\n",
       "    </tr>\n",
       "    <tr>\n",
       "      <th>4</th>\n",
       "      <td>Tammy Beaumont</td>\n",
       "      <td>ENG</td>\n",
       "      <td>740</td>\n",
       "    </tr>\n",
       "    <tr>\n",
       "      <th>5</th>\n",
       "      <td>Amy Satterthwaite</td>\n",
       "      <td>NZ</td>\n",
       "      <td>726</td>\n",
       "    </tr>\n",
       "    <tr>\n",
       "      <th>6</th>\n",
       "      <td>Meg Lanning</td>\n",
       "      <td>AUS</td>\n",
       "      <td>723</td>\n",
       "    </tr>\n",
       "    <tr>\n",
       "      <th>7</th>\n",
       "      <td>Smriti Mandhana</td>\n",
       "      <td>IND</td>\n",
       "      <td>701</td>\n",
       "    </tr>\n",
       "    <tr>\n",
       "      <th>8</th>\n",
       "      <td>Ellyse Perry</td>\n",
       "      <td>AUS</td>\n",
       "      <td>679</td>\n",
       "    </tr>\n",
       "    <tr>\n",
       "      <th>9</th>\n",
       "      <td>Laura Wolvaardt</td>\n",
       "      <td>SA</td>\n",
       "      <td>672</td>\n",
       "    </tr>\n",
       "    <tr>\n",
       "      <th>10</th>\n",
       "      <td>Natalie Sciver</td>\n",
       "      <td>ENG</td>\n",
       "      <td>672</td>\n",
       "    </tr>\n",
       "  </tbody>\n",
       "</table>\n",
       "</div>"
      ],
      "text/plain": [
       "               Player Name Team Rating\n",
       "Ranking                               \n",
       "1              Mithali Raj  IND    762\n",
       "2              Lizelle Lee   SA    761\n",
       "3             Alyssa Healy  AUS    756\n",
       "4           Tammy Beaumont  ENG    740\n",
       "5        Amy Satterthwaite   NZ    726\n",
       "6              Meg Lanning  AUS    723\n",
       "7          Smriti Mandhana  IND    701\n",
       "8             Ellyse Perry  AUS    679\n",
       "9          Laura Wolvaardt   SA    672\n",
       "10          Natalie Sciver  ENG    672"
      ]
     },
     "execution_count": 25,
     "metadata": {},
     "output_type": "execute_result"
    }
   ],
   "source": [
    "Top_10_ODI_Women_batsmen"
   ]
  },
  {
   "cell_type": "code",
   "execution_count": null,
   "id": "d32d542c",
   "metadata": {},
   "outputs": [],
   "source": []
  }
 ],
 "metadata": {
  "kernelspec": {
   "display_name": "Python 3",
   "language": "python",
   "name": "python3"
  },
  "language_info": {
   "codemirror_mode": {
    "name": "ipython",
    "version": 3
   },
   "file_extension": ".py",
   "mimetype": "text/x-python",
   "name": "python",
   "nbconvert_exporter": "python",
   "pygments_lexer": "ipython3",
   "version": "3.8.8"
  }
 },
 "nbformat": 4,
 "nbformat_minor": 5
}
