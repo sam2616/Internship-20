{
 "cells": [
  {
   "cell_type": "code",
   "execution_count": 2,
   "id": "50e04071",
   "metadata": {},
   "outputs": [],
   "source": [
    "from bs4 import BeautifulSoup\n",
    "import requests\n",
    "import pandas as pd"
   ]
  },
  {
   "cell_type": "code",
   "execution_count": 3,
   "id": "1daa2c9f",
   "metadata": {},
   "outputs": [],
   "source": [
    "page=requests.get(\"https://forecast.weather.gov/MapClick.php?lat=37.777120000000025&lon=-122.41963999999996#.YVBMUVVBypo\")"
   ]
  },
  {
   "cell_type": "code",
   "execution_count": 4,
   "id": "7cc5eeca",
   "metadata": {},
   "outputs": [
    {
     "data": {
      "text/plain": [
       "<Response [200]>"
      ]
     },
     "execution_count": 4,
     "metadata": {},
     "output_type": "execute_result"
    }
   ],
   "source": [
    "page"
   ]
  },
  {
   "cell_type": "code",
   "execution_count": 5,
   "id": "72b7ddfa",
   "metadata": {},
   "outputs": [],
   "source": [
    "soup=BeautifulSoup(page.content)"
   ]
  },
  {
   "cell_type": "code",
   "execution_count": 6,
   "id": "3800fa82",
   "metadata": {},
   "outputs": [],
   "source": [
    "period=soup.find_all('p',class_=\"period-name\")"
   ]
  },
  {
   "cell_type": "code",
   "execution_count": 7,
   "id": "8ea17c2c",
   "metadata": {},
   "outputs": [],
   "source": [
    "Period=[]"
   ]
  },
  {
   "cell_type": "code",
   "execution_count": 8,
   "id": "5e204f79",
   "metadata": {},
   "outputs": [],
   "source": [
    "for i in period:\n",
    "    Period.append(i.text)"
   ]
  },
  {
   "cell_type": "code",
   "execution_count": 9,
   "id": "cb2f8bf6",
   "metadata": {},
   "outputs": [
    {
     "data": {
      "text/plain": [
       "['Today',\n",
       " 'Tonight',\n",
       " 'Tuesday',\n",
       " 'TuesdayNight',\n",
       " 'Wednesday',\n",
       " 'WednesdayNight',\n",
       " 'Thursday',\n",
       " 'ThursdayNight',\n",
       " 'Friday']"
      ]
     },
     "execution_count": 9,
     "metadata": {},
     "output_type": "execute_result"
    }
   ],
   "source": [
    "Period"
   ]
  },
  {
   "cell_type": "code",
   "execution_count": 8,
   "id": "7fbdbf6a",
   "metadata": {},
   "outputs": [],
   "source": []
  },
  {
   "cell_type": "code",
   "execution_count": 10,
   "id": "7bf86522",
   "metadata": {},
   "outputs": [],
   "source": [
    "short_desc=soup.find_all('p',class_=\"short-desc\")"
   ]
  },
  {
   "cell_type": "code",
   "execution_count": 11,
   "id": "01a05408",
   "metadata": {},
   "outputs": [],
   "source": [
    "Short_Des=[]"
   ]
  },
  {
   "cell_type": "code",
   "execution_count": 12,
   "id": "97ec5737",
   "metadata": {},
   "outputs": [],
   "source": [
    "for i in short_desc:\n",
    "    Short_Des.append(i.text)"
   ]
  },
  {
   "cell_type": "code",
   "execution_count": 13,
   "id": "235b1ea7",
   "metadata": {},
   "outputs": [
    {
     "data": {
      "text/plain": [
       "['DecreasingClouds',\n",
       " 'Slight ChanceRain thenPartly Cloudy',\n",
       " 'BecomingSunny',\n",
       " 'Partly Cloudy',\n",
       " 'Sunny',\n",
       " 'Mostly Clear',\n",
       " 'Sunny',\n",
       " 'Mostly Clear',\n",
       " 'Sunny']"
      ]
     },
     "execution_count": 13,
     "metadata": {},
     "output_type": "execute_result"
    }
   ],
   "source": [
    "Short_Des"
   ]
  },
  {
   "cell_type": "code",
   "execution_count": 14,
   "id": "d9302067",
   "metadata": {},
   "outputs": [],
   "source": [
    "Temp_High=[]"
   ]
  },
  {
   "cell_type": "code",
   "execution_count": 15,
   "id": "1daabb85",
   "metadata": {},
   "outputs": [],
   "source": [
    "temp_high=soup.find_all('p',class_=\"temp temp-high\")"
   ]
  },
  {
   "cell_type": "code",
   "execution_count": 16,
   "id": "81a687bb",
   "metadata": {},
   "outputs": [],
   "source": [
    "for i in temp_high:\n",
    "    Temp_High.append(i.text)"
   ]
  },
  {
   "cell_type": "code",
   "execution_count": 17,
   "id": "5f4ab5dc",
   "metadata": {},
   "outputs": [
    {
     "data": {
      "text/plain": [
       "['High: 67 °F', 'High: 68 °F', 'High: 68 °F', 'High: 75 °F', 'High: 74 °F']"
      ]
     },
     "execution_count": 17,
     "metadata": {},
     "output_type": "execute_result"
    }
   ],
   "source": [
    "Temp_High"
   ]
  },
  {
   "cell_type": "code",
   "execution_count": 18,
   "id": "f4657fd6",
   "metadata": {},
   "outputs": [],
   "source": [
    "Temp_Low=[]"
   ]
  },
  {
   "cell_type": "code",
   "execution_count": 19,
   "id": "4143ac88",
   "metadata": {},
   "outputs": [],
   "source": [
    "temp_low=soup.find_all('p',class_=\"temp temp-low\")"
   ]
  },
  {
   "cell_type": "code",
   "execution_count": 20,
   "id": "3b26f58b",
   "metadata": {},
   "outputs": [],
   "source": [
    "for i in temp_low:\n",
    "    Temp_Low.append(i.text)"
   ]
  },
  {
   "cell_type": "code",
   "execution_count": 21,
   "id": "b217e99c",
   "metadata": {},
   "outputs": [
    {
     "data": {
      "text/plain": [
       "['Low: 54 °F', 'Low: 53 °F', 'Low: 54 °F', 'Low: 55 °F']"
      ]
     },
     "execution_count": 21,
     "metadata": {},
     "output_type": "execute_result"
    }
   ],
   "source": [
    "Temp_Low"
   ]
  },
  {
   "cell_type": "code",
   "execution_count": 22,
   "id": "1050cc24",
   "metadata": {},
   "outputs": [],
   "source": [
    "Descr=[]"
   ]
  },
  {
   "cell_type": "code",
   "execution_count": 23,
   "id": "8dd7b297",
   "metadata": {},
   "outputs": [],
   "source": [
    "descr=soup.find_all('div',class_=\"col-sm-10 forecast-text\")"
   ]
  },
  {
   "cell_type": "code",
   "execution_count": 24,
   "id": "5aa49d20",
   "metadata": {},
   "outputs": [],
   "source": [
    "for i in descr:\n",
    "    Descr.append(i.text)"
   ]
  },
  {
   "cell_type": "code",
   "execution_count": 25,
   "id": "958669e1",
   "metadata": {},
   "outputs": [
    {
     "data": {
      "text/plain": [
       "['Cloudy, then gradually becoming mostly sunny, with a high near 67. Light southwest wind becoming west southwest 12 to 17 mph in the morning. Winds could gust as high as 22 mph. ',\n",
       " 'A 20 percent chance of rain before 11pm.  Mostly cloudy, with a low around 54. West northwest wind 8 to 16 mph, with gusts as high as 21 mph. ',\n",
       " 'Mostly cloudy through mid morning, then gradual clearing, with a high near 68. West northwest wind 7 to 12 mph increasing to 16 to 21 mph in the afternoon. Winds could gust as high as 28 mph. ',\n",
       " 'Partly cloudy, with a low around 53. West wind 13 to 18 mph decreasing to 7 to 12 mph in the evening. Winds could gust as high as 23 mph. ',\n",
       " 'Sunny, with a high near 68. West wind 5 to 10 mph increasing to 11 to 16 mph in the afternoon. Winds could gust as high as 22 mph. ',\n",
       " 'Mostly clear, with a low around 54.',\n",
       " 'Sunny, with a high near 75.',\n",
       " 'Mostly clear, with a low around 55.',\n",
       " 'Sunny, with a high near 74.',\n",
       " 'Partly cloudy, with a low around 55.',\n",
       " 'Mostly sunny, with a high near 73.',\n",
       " 'Partly cloudy, with a low around 56.',\n",
       " 'Mostly sunny, with a high near 73.']"
      ]
     },
     "execution_count": 25,
     "metadata": {},
     "output_type": "execute_result"
    }
   ],
   "source": [
    "Descr"
   ]
  },
  {
   "cell_type": "code",
   "execution_count": 26,
   "id": "36007633",
   "metadata": {},
   "outputs": [
    {
     "name": "stdout",
     "output_type": "stream",
     "text": [
      "9 9 5 4 13\n"
     ]
    }
   ],
   "source": [
    "print(len(Period),len(Short_Des),len(Temp_High),len(Temp_Low),len(Descr))"
   ]
  },
  {
   "cell_type": "code",
   "execution_count": 34,
   "id": "17e4dfa7",
   "metadata": {},
   "outputs": [],
   "source": [
    "Temp=[]"
   ]
  },
  {
   "cell_type": "code",
   "execution_count": 35,
   "id": "88473694",
   "metadata": {},
   "outputs": [],
   "source": [
    "for i,j in zip(Temp_High,Temp_Low):\n",
    "    Temp+=[i,j]"
   ]
  },
  {
   "cell_type": "code",
   "execution_count": 36,
   "id": "d3123dbf",
   "metadata": {},
   "outputs": [],
   "source": [
    "Temp.append(Temp_High[4])"
   ]
  },
  {
   "cell_type": "code",
   "execution_count": 37,
   "id": "3e9cb85f",
   "metadata": {},
   "outputs": [
    {
     "data": {
      "text/plain": [
       "['High: 67 °F',\n",
       " 'Low: 54 °F',\n",
       " 'High: 68 °F',\n",
       " 'Low: 53 °F',\n",
       " 'High: 68 °F',\n",
       " 'Low: 54 °F',\n",
       " 'High: 75 °F',\n",
       " 'Low: 55 °F',\n",
       " 'High: 74 °F']"
      ]
     },
     "execution_count": 37,
     "metadata": {},
     "output_type": "execute_result"
    }
   ],
   "source": [
    "Temp"
   ]
  },
  {
   "cell_type": "code",
   "execution_count": 38,
   "id": "20906b1f",
   "metadata": {},
   "outputs": [
    {
     "name": "stdout",
     "output_type": "stream",
     "text": [
      "9 9 9 13\n"
     ]
    }
   ],
   "source": [
    "print(len(Period),len(Short_Des),len(Temp),len(Descr))"
   ]
  },
  {
   "cell_type": "code",
   "execution_count": 39,
   "id": "52a6fb30",
   "metadata": {},
   "outputs": [],
   "source": [
    "Desc=Descr[0:9]"
   ]
  },
  {
   "cell_type": "code",
   "execution_count": 40,
   "id": "9cebb7e0",
   "metadata": {},
   "outputs": [
    {
     "data": {
      "text/plain": [
       "9"
      ]
     },
     "execution_count": 40,
     "metadata": {},
     "output_type": "execute_result"
    }
   ],
   "source": [
    "len(Desc)"
   ]
  },
  {
   "cell_type": "code",
   "execution_count": 41,
   "id": "c1a9d427",
   "metadata": {},
   "outputs": [],
   "source": [
    "Forecast=pd.DataFrame({})"
   ]
  },
  {
   "cell_type": "code",
   "execution_count": 43,
   "id": "15c1ffc2",
   "metadata": {},
   "outputs": [],
   "source": [
    "Forecast[\"Period\"]=Period\n",
    "Forecast[\"Short Description\"]=Short_Des\n",
    "Forecast[\"Temperature\"]=Temp\n",
    "Forecast[\"Description\"]=Desc"
   ]
  },
  {
   "cell_type": "code",
   "execution_count": 44,
   "id": "fd8abd1c",
   "metadata": {},
   "outputs": [
    {
     "data": {
      "text/html": [
       "<div>\n",
       "<style scoped>\n",
       "    .dataframe tbody tr th:only-of-type {\n",
       "        vertical-align: middle;\n",
       "    }\n",
       "\n",
       "    .dataframe tbody tr th {\n",
       "        vertical-align: top;\n",
       "    }\n",
       "\n",
       "    .dataframe thead th {\n",
       "        text-align: right;\n",
       "    }\n",
       "</style>\n",
       "<table border=\"1\" class=\"dataframe\">\n",
       "  <thead>\n",
       "    <tr style=\"text-align: right;\">\n",
       "      <th></th>\n",
       "      <th>Period</th>\n",
       "      <th>Short Description</th>\n",
       "      <th>Temperature</th>\n",
       "      <th>Description</th>\n",
       "    </tr>\n",
       "  </thead>\n",
       "  <tbody>\n",
       "    <tr>\n",
       "      <th>0</th>\n",
       "      <td>Today</td>\n",
       "      <td>DecreasingClouds</td>\n",
       "      <td>High: 67 °F</td>\n",
       "      <td>Cloudy, then gradually becoming mostly sunny, ...</td>\n",
       "    </tr>\n",
       "    <tr>\n",
       "      <th>1</th>\n",
       "      <td>Tonight</td>\n",
       "      <td>Slight ChanceRain thenPartly Cloudy</td>\n",
       "      <td>Low: 54 °F</td>\n",
       "      <td>A 20 percent chance of rain before 11pm.  Most...</td>\n",
       "    </tr>\n",
       "    <tr>\n",
       "      <th>2</th>\n",
       "      <td>Tuesday</td>\n",
       "      <td>BecomingSunny</td>\n",
       "      <td>High: 68 °F</td>\n",
       "      <td>Mostly cloudy through mid morning, then gradua...</td>\n",
       "    </tr>\n",
       "    <tr>\n",
       "      <th>3</th>\n",
       "      <td>TuesdayNight</td>\n",
       "      <td>Partly Cloudy</td>\n",
       "      <td>Low: 53 °F</td>\n",
       "      <td>Partly cloudy, with a low around 53. West wind...</td>\n",
       "    </tr>\n",
       "    <tr>\n",
       "      <th>4</th>\n",
       "      <td>Wednesday</td>\n",
       "      <td>Sunny</td>\n",
       "      <td>High: 68 °F</td>\n",
       "      <td>Sunny, with a high near 68. West wind 5 to 10 ...</td>\n",
       "    </tr>\n",
       "    <tr>\n",
       "      <th>5</th>\n",
       "      <td>WednesdayNight</td>\n",
       "      <td>Mostly Clear</td>\n",
       "      <td>Low: 54 °F</td>\n",
       "      <td>Mostly clear, with a low around 54.</td>\n",
       "    </tr>\n",
       "    <tr>\n",
       "      <th>6</th>\n",
       "      <td>Thursday</td>\n",
       "      <td>Sunny</td>\n",
       "      <td>High: 75 °F</td>\n",
       "      <td>Sunny, with a high near 75.</td>\n",
       "    </tr>\n",
       "    <tr>\n",
       "      <th>7</th>\n",
       "      <td>ThursdayNight</td>\n",
       "      <td>Mostly Clear</td>\n",
       "      <td>Low: 55 °F</td>\n",
       "      <td>Mostly clear, with a low around 55.</td>\n",
       "    </tr>\n",
       "    <tr>\n",
       "      <th>8</th>\n",
       "      <td>Friday</td>\n",
       "      <td>Sunny</td>\n",
       "      <td>High: 74 °F</td>\n",
       "      <td>Sunny, with a high near 74.</td>\n",
       "    </tr>\n",
       "  </tbody>\n",
       "</table>\n",
       "</div>"
      ],
      "text/plain": [
       "           Period                    Short Description  Temperature  \\\n",
       "0           Today                     DecreasingClouds  High: 67 °F   \n",
       "1         Tonight  Slight ChanceRain thenPartly Cloudy   Low: 54 °F   \n",
       "2         Tuesday                        BecomingSunny  High: 68 °F   \n",
       "3    TuesdayNight                        Partly Cloudy   Low: 53 °F   \n",
       "4       Wednesday                                Sunny  High: 68 °F   \n",
       "5  WednesdayNight                         Mostly Clear   Low: 54 °F   \n",
       "6        Thursday                                Sunny  High: 75 °F   \n",
       "7   ThursdayNight                         Mostly Clear   Low: 55 °F   \n",
       "8          Friday                                Sunny  High: 74 °F   \n",
       "\n",
       "                                         Description  \n",
       "0  Cloudy, then gradually becoming mostly sunny, ...  \n",
       "1  A 20 percent chance of rain before 11pm.  Most...  \n",
       "2  Mostly cloudy through mid morning, then gradua...  \n",
       "3  Partly cloudy, with a low around 53. West wind...  \n",
       "4  Sunny, with a high near 68. West wind 5 to 10 ...  \n",
       "5                Mostly clear, with a low around 54.  \n",
       "6                        Sunny, with a high near 75.  \n",
       "7                Mostly clear, with a low around 55.  \n",
       "8                        Sunny, with a high near 74.  "
      ]
     },
     "execution_count": 44,
     "metadata": {},
     "output_type": "execute_result"
    }
   ],
   "source": [
    "Forecast"
   ]
  },
  {
   "cell_type": "code",
   "execution_count": null,
   "id": "1d23b7cc",
   "metadata": {},
   "outputs": [],
   "source": []
  }
 ],
 "metadata": {
  "kernelspec": {
   "display_name": "Python 3",
   "language": "python",
   "name": "python3"
  },
  "language_info": {
   "codemirror_mode": {
    "name": "ipython",
    "version": 3
   },
   "file_extension": ".py",
   "mimetype": "text/x-python",
   "name": "python",
   "nbconvert_exporter": "python",
   "pygments_lexer": "ipython3",
   "version": "3.8.8"
  }
 },
 "nbformat": 4,
 "nbformat_minor": 5
}
