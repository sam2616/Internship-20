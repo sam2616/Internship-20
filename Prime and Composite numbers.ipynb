{
 "cells": [
  {
   "cell_type": "code",
   "execution_count": null,
   "id": "33a74f11",
   "metadata": {},
   "outputs": [],
   "source": [
    "num=int(input(\"Enter the number: \"))\n",
    "if num<0:\n",
    "    print(\"Entered number is a negative integer\")\n",
    "elif num==0 or num==1:\n",
    "    print(\"Entered number is neither prime nor composite\")\n",
    "elif num>1:\n",
    "    for i in range(2,num):\n",
    "        if(num%i)==0:\n",
    "            print(num,\"is a composite number\")\n",
    "            break\n",
    "    else:\n",
    "        print(num,\"is a prime number\")\n",
    "else:\n",
    "    print(num,\"is a composite number\")"
   ]
  },
  {
   "cell_type": "code",
   "execution_count": null,
   "id": "b5137732",
   "metadata": {},
   "outputs": [],
   "source": []
  }
 ],
 "metadata": {
  "kernelspec": {
   "display_name": "Python 3",
   "language": "python",
   "name": "python3"
  },
  "language_info": {
   "codemirror_mode": {
    "name": "ipython",
    "version": 3
   },
   "file_extension": ".py",
   "mimetype": "text/x-python",
   "name": "python",
   "nbconvert_exporter": "python",
   "pygments_lexer": "ipython3",
   "version": "3.8.8"
  }
 },
 "nbformat": 4,
 "nbformat_minor": 5
}
